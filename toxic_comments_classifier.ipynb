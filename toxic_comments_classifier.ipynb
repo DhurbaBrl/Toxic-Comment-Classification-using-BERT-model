{
  "nbformat": 4,
  "nbformat_minor": 0,
  "metadata": {
    "colab": {
      "name": "toxic_comments_classifier.ipynb",
      "provenance": [],
      "collapsed_sections": []
    },
    "kernelspec": {
      "display_name": "Python 3",
      "name": "python3"
    },
    "language_info": {
      "name": "python"
    },
    "accelerator": "GPU"
  },
  "cells": [
    {
      "cell_type": "markdown",
      "metadata": {
        "id": "kgbNt8msvUjz"
      },
      "source": [
        "##**Import Packages** "
      ]
    },
    {
      "cell_type": "code",
      "metadata": {
        "id": "Q7EnC6jTvcc0"
      },
      "source": [
        "import numpy as np\n",
        "import tensorflow as tf\n",
        "import pandas as pd\n",
        "import os\n",
        "import matplotlib.pyplot as plt\n",
        "import re\n",
        "import wordcloud\n",
        "from wordcloud import WordCloud\n",
        "from sklearn import utils"
      ],
      "execution_count": 72,
      "outputs": []
    },
    {
      "cell_type": "markdown",
      "metadata": {
        "id": "7-laFBxfv-B7"
      },
      "source": [
        "##**Load the data**"
      ]
    },
    {
      "cell_type": "code",
      "metadata": {
        "id": "Ao79CurLvnMt"
      },
      "source": [
        "train_data=pd.read_csv(os.path.join('drive/MyDrive/deep_learning_projects/toxic_comments_classifier/data/train.csv'))\n",
        "test_data=pd.read_csv(os.path.join('drive/MyDrive/deep_learning_projects/toxic_comments_classifier/data/test.csv'))"
      ],
      "execution_count": 73,
      "outputs": []
    },
    {
      "cell_type": "markdown",
      "metadata": {
        "id": "hbiVWhKRnSGe"
      },
      "source": [
        "##**Data Analysis and visualization**"
      ]
    },
    {
      "cell_type": "code",
      "metadata": {
        "colab": {
          "base_uri": "https://localhost:8080/"
        },
        "id": "3GVVxnk_xXyc",
        "outputId": "b7710b96-f33b-4c2e-ac67-d17a9a73d156"
      },
      "source": [
        "print(train_data.shape)\n",
        "print(test_data.shape)\n"
      ],
      "execution_count": 74,
      "outputs": [
        {
          "output_type": "stream",
          "name": "stdout",
          "text": [
            "(159571, 8)\n",
            "(153164, 2)\n"
          ]
        }
      ]
    },
    {
      "cell_type": "code",
      "metadata": {
        "colab": {
          "base_uri": "https://localhost:8080/",
          "height": 669
        },
        "id": "wUQkRZGwzAb7",
        "outputId": "c439b154-8679-4336-d0f4-b5617a2a6943"
      },
      "source": [
        "train_data.head(20)"
      ],
      "execution_count": 75,
      "outputs": [
        {
          "output_type": "execute_result",
          "data": {
            "text/html": [
              "<div>\n",
              "<style scoped>\n",
              "    .dataframe tbody tr th:only-of-type {\n",
              "        vertical-align: middle;\n",
              "    }\n",
              "\n",
              "    .dataframe tbody tr th {\n",
              "        vertical-align: top;\n",
              "    }\n",
              "\n",
              "    .dataframe thead th {\n",
              "        text-align: right;\n",
              "    }\n",
              "</style>\n",
              "<table border=\"1\" class=\"dataframe\">\n",
              "  <thead>\n",
              "    <tr style=\"text-align: right;\">\n",
              "      <th></th>\n",
              "      <th>id</th>\n",
              "      <th>comment_text</th>\n",
              "      <th>toxic</th>\n",
              "      <th>severe_toxic</th>\n",
              "      <th>obscene</th>\n",
              "      <th>threat</th>\n",
              "      <th>insult</th>\n",
              "      <th>identity_hate</th>\n",
              "    </tr>\n",
              "  </thead>\n",
              "  <tbody>\n",
              "    <tr>\n",
              "      <th>0</th>\n",
              "      <td>0000997932d777bf</td>\n",
              "      <td>Explanation\\nWhy the edits made under my usern...</td>\n",
              "      <td>0</td>\n",
              "      <td>0</td>\n",
              "      <td>0</td>\n",
              "      <td>0</td>\n",
              "      <td>0</td>\n",
              "      <td>0</td>\n",
              "    </tr>\n",
              "    <tr>\n",
              "      <th>1</th>\n",
              "      <td>000103f0d9cfb60f</td>\n",
              "      <td>D'aww! He matches this background colour I'm s...</td>\n",
              "      <td>0</td>\n",
              "      <td>0</td>\n",
              "      <td>0</td>\n",
              "      <td>0</td>\n",
              "      <td>0</td>\n",
              "      <td>0</td>\n",
              "    </tr>\n",
              "    <tr>\n",
              "      <th>2</th>\n",
              "      <td>000113f07ec002fd</td>\n",
              "      <td>Hey man, I'm really not trying to edit war. It...</td>\n",
              "      <td>0</td>\n",
              "      <td>0</td>\n",
              "      <td>0</td>\n",
              "      <td>0</td>\n",
              "      <td>0</td>\n",
              "      <td>0</td>\n",
              "    </tr>\n",
              "    <tr>\n",
              "      <th>3</th>\n",
              "      <td>0001b41b1c6bb37e</td>\n",
              "      <td>\"\\nMore\\nI can't make any real suggestions on ...</td>\n",
              "      <td>0</td>\n",
              "      <td>0</td>\n",
              "      <td>0</td>\n",
              "      <td>0</td>\n",
              "      <td>0</td>\n",
              "      <td>0</td>\n",
              "    </tr>\n",
              "    <tr>\n",
              "      <th>4</th>\n",
              "      <td>0001d958c54c6e35</td>\n",
              "      <td>You, sir, are my hero. Any chance you remember...</td>\n",
              "      <td>0</td>\n",
              "      <td>0</td>\n",
              "      <td>0</td>\n",
              "      <td>0</td>\n",
              "      <td>0</td>\n",
              "      <td>0</td>\n",
              "    </tr>\n",
              "    <tr>\n",
              "      <th>5</th>\n",
              "      <td>00025465d4725e87</td>\n",
              "      <td>\"\\n\\nCongratulations from me as well, use the ...</td>\n",
              "      <td>0</td>\n",
              "      <td>0</td>\n",
              "      <td>0</td>\n",
              "      <td>0</td>\n",
              "      <td>0</td>\n",
              "      <td>0</td>\n",
              "    </tr>\n",
              "    <tr>\n",
              "      <th>6</th>\n",
              "      <td>0002bcb3da6cb337</td>\n",
              "      <td>COCKSUCKER BEFORE YOU PISS AROUND ON MY WORK</td>\n",
              "      <td>1</td>\n",
              "      <td>1</td>\n",
              "      <td>1</td>\n",
              "      <td>0</td>\n",
              "      <td>1</td>\n",
              "      <td>0</td>\n",
              "    </tr>\n",
              "    <tr>\n",
              "      <th>7</th>\n",
              "      <td>00031b1e95af7921</td>\n",
              "      <td>Your vandalism to the Matt Shirvington article...</td>\n",
              "      <td>0</td>\n",
              "      <td>0</td>\n",
              "      <td>0</td>\n",
              "      <td>0</td>\n",
              "      <td>0</td>\n",
              "      <td>0</td>\n",
              "    </tr>\n",
              "    <tr>\n",
              "      <th>8</th>\n",
              "      <td>00037261f536c51d</td>\n",
              "      <td>Sorry if the word 'nonsense' was offensive to ...</td>\n",
              "      <td>0</td>\n",
              "      <td>0</td>\n",
              "      <td>0</td>\n",
              "      <td>0</td>\n",
              "      <td>0</td>\n",
              "      <td>0</td>\n",
              "    </tr>\n",
              "    <tr>\n",
              "      <th>9</th>\n",
              "      <td>00040093b2687caa</td>\n",
              "      <td>alignment on this subject and which are contra...</td>\n",
              "      <td>0</td>\n",
              "      <td>0</td>\n",
              "      <td>0</td>\n",
              "      <td>0</td>\n",
              "      <td>0</td>\n",
              "      <td>0</td>\n",
              "    </tr>\n",
              "    <tr>\n",
              "      <th>10</th>\n",
              "      <td>0005300084f90edc</td>\n",
              "      <td>\"\\nFair use rationale for Image:Wonju.jpg\\n\\nT...</td>\n",
              "      <td>0</td>\n",
              "      <td>0</td>\n",
              "      <td>0</td>\n",
              "      <td>0</td>\n",
              "      <td>0</td>\n",
              "      <td>0</td>\n",
              "    </tr>\n",
              "    <tr>\n",
              "      <th>11</th>\n",
              "      <td>00054a5e18b50dd4</td>\n",
              "      <td>bbq \\n\\nbe a man and lets discuss it-maybe ove...</td>\n",
              "      <td>0</td>\n",
              "      <td>0</td>\n",
              "      <td>0</td>\n",
              "      <td>0</td>\n",
              "      <td>0</td>\n",
              "      <td>0</td>\n",
              "    </tr>\n",
              "    <tr>\n",
              "      <th>12</th>\n",
              "      <td>0005c987bdfc9d4b</td>\n",
              "      <td>Hey... what is it..\\n@ | talk .\\nWhat is it......</td>\n",
              "      <td>1</td>\n",
              "      <td>0</td>\n",
              "      <td>0</td>\n",
              "      <td>0</td>\n",
              "      <td>0</td>\n",
              "      <td>0</td>\n",
              "    </tr>\n",
              "    <tr>\n",
              "      <th>13</th>\n",
              "      <td>0006f16e4e9f292e</td>\n",
              "      <td>Before you start throwing accusations and warn...</td>\n",
              "      <td>0</td>\n",
              "      <td>0</td>\n",
              "      <td>0</td>\n",
              "      <td>0</td>\n",
              "      <td>0</td>\n",
              "      <td>0</td>\n",
              "    </tr>\n",
              "    <tr>\n",
              "      <th>14</th>\n",
              "      <td>00070ef96486d6f9</td>\n",
              "      <td>Oh, and the girl above started her arguments w...</td>\n",
              "      <td>0</td>\n",
              "      <td>0</td>\n",
              "      <td>0</td>\n",
              "      <td>0</td>\n",
              "      <td>0</td>\n",
              "      <td>0</td>\n",
              "    </tr>\n",
              "    <tr>\n",
              "      <th>15</th>\n",
              "      <td>00078f8ce7eb276d</td>\n",
              "      <td>\"\\n\\nJuelz Santanas Age\\n\\nIn 2002, Juelz Sant...</td>\n",
              "      <td>0</td>\n",
              "      <td>0</td>\n",
              "      <td>0</td>\n",
              "      <td>0</td>\n",
              "      <td>0</td>\n",
              "      <td>0</td>\n",
              "    </tr>\n",
              "    <tr>\n",
              "      <th>16</th>\n",
              "      <td>0007e25b2121310b</td>\n",
              "      <td>Bye! \\n\\nDon't look, come or think of comming ...</td>\n",
              "      <td>1</td>\n",
              "      <td>0</td>\n",
              "      <td>0</td>\n",
              "      <td>0</td>\n",
              "      <td>0</td>\n",
              "      <td>0</td>\n",
              "    </tr>\n",
              "    <tr>\n",
              "      <th>17</th>\n",
              "      <td>000897889268bc93</td>\n",
              "      <td>REDIRECT Talk:Voydan Pop Georgiev- Chernodrinski</td>\n",
              "      <td>0</td>\n",
              "      <td>0</td>\n",
              "      <td>0</td>\n",
              "      <td>0</td>\n",
              "      <td>0</td>\n",
              "      <td>0</td>\n",
              "    </tr>\n",
              "    <tr>\n",
              "      <th>18</th>\n",
              "      <td>0009801bd85e5806</td>\n",
              "      <td>The Mitsurugi point made no sense - why not ar...</td>\n",
              "      <td>0</td>\n",
              "      <td>0</td>\n",
              "      <td>0</td>\n",
              "      <td>0</td>\n",
              "      <td>0</td>\n",
              "      <td>0</td>\n",
              "    </tr>\n",
              "    <tr>\n",
              "      <th>19</th>\n",
              "      <td>0009eaea3325de8c</td>\n",
              "      <td>Don't mean to bother you \\n\\nI see that you're...</td>\n",
              "      <td>0</td>\n",
              "      <td>0</td>\n",
              "      <td>0</td>\n",
              "      <td>0</td>\n",
              "      <td>0</td>\n",
              "      <td>0</td>\n",
              "    </tr>\n",
              "  </tbody>\n",
              "</table>\n",
              "</div>"
            ],
            "text/plain": [
              "                  id  ... identity_hate\n",
              "0   0000997932d777bf  ...             0\n",
              "1   000103f0d9cfb60f  ...             0\n",
              "2   000113f07ec002fd  ...             0\n",
              "3   0001b41b1c6bb37e  ...             0\n",
              "4   0001d958c54c6e35  ...             0\n",
              "5   00025465d4725e87  ...             0\n",
              "6   0002bcb3da6cb337  ...             0\n",
              "7   00031b1e95af7921  ...             0\n",
              "8   00037261f536c51d  ...             0\n",
              "9   00040093b2687caa  ...             0\n",
              "10  0005300084f90edc  ...             0\n",
              "11  00054a5e18b50dd4  ...             0\n",
              "12  0005c987bdfc9d4b  ...             0\n",
              "13  0006f16e4e9f292e  ...             0\n",
              "14  00070ef96486d6f9  ...             0\n",
              "15  00078f8ce7eb276d  ...             0\n",
              "16  0007e25b2121310b  ...             0\n",
              "17  000897889268bc93  ...             0\n",
              "18  0009801bd85e5806  ...             0\n",
              "19  0009eaea3325de8c  ...             0\n",
              "\n",
              "[20 rows x 8 columns]"
            ]
          },
          "metadata": {},
          "execution_count": 75
        }
      ]
    },
    {
      "cell_type": "code",
      "metadata": {
        "colab": {
          "base_uri": "https://localhost:8080/",
          "height": 204
        },
        "id": "cXP2cA1GNriM",
        "outputId": "3e9e9508-e21b-4081-9c9e-8fd384fc97ae"
      },
      "source": [
        "test_data.head(5)  #it for evaluation by kaggle"
      ],
      "execution_count": 76,
      "outputs": [
        {
          "output_type": "execute_result",
          "data": {
            "text/html": [
              "<div>\n",
              "<style scoped>\n",
              "    .dataframe tbody tr th:only-of-type {\n",
              "        vertical-align: middle;\n",
              "    }\n",
              "\n",
              "    .dataframe tbody tr th {\n",
              "        vertical-align: top;\n",
              "    }\n",
              "\n",
              "    .dataframe thead th {\n",
              "        text-align: right;\n",
              "    }\n",
              "</style>\n",
              "<table border=\"1\" class=\"dataframe\">\n",
              "  <thead>\n",
              "    <tr style=\"text-align: right;\">\n",
              "      <th></th>\n",
              "      <th>id</th>\n",
              "      <th>comment_text</th>\n",
              "    </tr>\n",
              "  </thead>\n",
              "  <tbody>\n",
              "    <tr>\n",
              "      <th>0</th>\n",
              "      <td>00001cee341fdb12</td>\n",
              "      <td>Yo bitch Ja Rule is more succesful then you'll...</td>\n",
              "    </tr>\n",
              "    <tr>\n",
              "      <th>1</th>\n",
              "      <td>0000247867823ef7</td>\n",
              "      <td>== From RfC == \\n\\n The title is fine as it is...</td>\n",
              "    </tr>\n",
              "    <tr>\n",
              "      <th>2</th>\n",
              "      <td>00013b17ad220c46</td>\n",
              "      <td>\" \\n\\n == Sources == \\n\\n * Zawe Ashton on Lap...</td>\n",
              "    </tr>\n",
              "    <tr>\n",
              "      <th>3</th>\n",
              "      <td>00017563c3f7919a</td>\n",
              "      <td>:If you have a look back at the source, the in...</td>\n",
              "    </tr>\n",
              "    <tr>\n",
              "      <th>4</th>\n",
              "      <td>00017695ad8997eb</td>\n",
              "      <td>I don't anonymously edit articles at all.</td>\n",
              "    </tr>\n",
              "  </tbody>\n",
              "</table>\n",
              "</div>"
            ],
            "text/plain": [
              "                 id                                       comment_text\n",
              "0  00001cee341fdb12  Yo bitch Ja Rule is more succesful then you'll...\n",
              "1  0000247867823ef7  == From RfC == \\n\\n The title is fine as it is...\n",
              "2  00013b17ad220c46  \" \\n\\n == Sources == \\n\\n * Zawe Ashton on Lap...\n",
              "3  00017563c3f7919a  :If you have a look back at the source, the in...\n",
              "4  00017695ad8997eb          I don't anonymously edit articles at all."
            ]
          },
          "metadata": {},
          "execution_count": 76
        }
      ]
    },
    {
      "cell_type": "code",
      "metadata": {
        "colab": {
          "base_uri": "https://localhost:8080/",
          "height": 297
        },
        "id": "k26riKGNzCrF",
        "outputId": "58a7466c-a03a-4e2b-fcf8-755dd237d004"
      },
      "source": [
        "train_data.describe()"
      ],
      "execution_count": 77,
      "outputs": [
        {
          "output_type": "execute_result",
          "data": {
            "text/html": [
              "<div>\n",
              "<style scoped>\n",
              "    .dataframe tbody tr th:only-of-type {\n",
              "        vertical-align: middle;\n",
              "    }\n",
              "\n",
              "    .dataframe tbody tr th {\n",
              "        vertical-align: top;\n",
              "    }\n",
              "\n",
              "    .dataframe thead th {\n",
              "        text-align: right;\n",
              "    }\n",
              "</style>\n",
              "<table border=\"1\" class=\"dataframe\">\n",
              "  <thead>\n",
              "    <tr style=\"text-align: right;\">\n",
              "      <th></th>\n",
              "      <th>toxic</th>\n",
              "      <th>severe_toxic</th>\n",
              "      <th>obscene</th>\n",
              "      <th>threat</th>\n",
              "      <th>insult</th>\n",
              "      <th>identity_hate</th>\n",
              "    </tr>\n",
              "  </thead>\n",
              "  <tbody>\n",
              "    <tr>\n",
              "      <th>count</th>\n",
              "      <td>159571.000000</td>\n",
              "      <td>159571.000000</td>\n",
              "      <td>159571.000000</td>\n",
              "      <td>159571.000000</td>\n",
              "      <td>159571.000000</td>\n",
              "      <td>159571.000000</td>\n",
              "    </tr>\n",
              "    <tr>\n",
              "      <th>mean</th>\n",
              "      <td>0.095844</td>\n",
              "      <td>0.009996</td>\n",
              "      <td>0.052948</td>\n",
              "      <td>0.002996</td>\n",
              "      <td>0.049364</td>\n",
              "      <td>0.008805</td>\n",
              "    </tr>\n",
              "    <tr>\n",
              "      <th>std</th>\n",
              "      <td>0.294379</td>\n",
              "      <td>0.099477</td>\n",
              "      <td>0.223931</td>\n",
              "      <td>0.054650</td>\n",
              "      <td>0.216627</td>\n",
              "      <td>0.093420</td>\n",
              "    </tr>\n",
              "    <tr>\n",
              "      <th>min</th>\n",
              "      <td>0.000000</td>\n",
              "      <td>0.000000</td>\n",
              "      <td>0.000000</td>\n",
              "      <td>0.000000</td>\n",
              "      <td>0.000000</td>\n",
              "      <td>0.000000</td>\n",
              "    </tr>\n",
              "    <tr>\n",
              "      <th>25%</th>\n",
              "      <td>0.000000</td>\n",
              "      <td>0.000000</td>\n",
              "      <td>0.000000</td>\n",
              "      <td>0.000000</td>\n",
              "      <td>0.000000</td>\n",
              "      <td>0.000000</td>\n",
              "    </tr>\n",
              "    <tr>\n",
              "      <th>50%</th>\n",
              "      <td>0.000000</td>\n",
              "      <td>0.000000</td>\n",
              "      <td>0.000000</td>\n",
              "      <td>0.000000</td>\n",
              "      <td>0.000000</td>\n",
              "      <td>0.000000</td>\n",
              "    </tr>\n",
              "    <tr>\n",
              "      <th>75%</th>\n",
              "      <td>0.000000</td>\n",
              "      <td>0.000000</td>\n",
              "      <td>0.000000</td>\n",
              "      <td>0.000000</td>\n",
              "      <td>0.000000</td>\n",
              "      <td>0.000000</td>\n",
              "    </tr>\n",
              "    <tr>\n",
              "      <th>max</th>\n",
              "      <td>1.000000</td>\n",
              "      <td>1.000000</td>\n",
              "      <td>1.000000</td>\n",
              "      <td>1.000000</td>\n",
              "      <td>1.000000</td>\n",
              "      <td>1.000000</td>\n",
              "    </tr>\n",
              "  </tbody>\n",
              "</table>\n",
              "</div>"
            ],
            "text/plain": [
              "               toxic   severe_toxic  ...         insult  identity_hate\n",
              "count  159571.000000  159571.000000  ...  159571.000000  159571.000000\n",
              "mean        0.095844       0.009996  ...       0.049364       0.008805\n",
              "std         0.294379       0.099477  ...       0.216627       0.093420\n",
              "min         0.000000       0.000000  ...       0.000000       0.000000\n",
              "25%         0.000000       0.000000  ...       0.000000       0.000000\n",
              "50%         0.000000       0.000000  ...       0.000000       0.000000\n",
              "75%         0.000000       0.000000  ...       0.000000       0.000000\n",
              "max         1.000000       1.000000  ...       1.000000       1.000000\n",
              "\n",
              "[8 rows x 6 columns]"
            ]
          },
          "metadata": {},
          "execution_count": 77
        }
      ]
    },
    {
      "cell_type": "code",
      "metadata": {
        "colab": {
          "base_uri": "https://localhost:8080/"
        },
        "id": "Ur0GRf3kKp2L",
        "outputId": "e89d589f-3cd0-4afe-82e9-f960d66ea93d"
      },
      "source": [
        "train_data.info()"
      ],
      "execution_count": 78,
      "outputs": [
        {
          "output_type": "stream",
          "name": "stdout",
          "text": [
            "<class 'pandas.core.frame.DataFrame'>\n",
            "RangeIndex: 159571 entries, 0 to 159570\n",
            "Data columns (total 8 columns):\n",
            " #   Column         Non-Null Count   Dtype \n",
            "---  ------         --------------   ----- \n",
            " 0   id             159571 non-null  object\n",
            " 1   comment_text   159571 non-null  object\n",
            " 2   toxic          159571 non-null  int64 \n",
            " 3   severe_toxic   159571 non-null  int64 \n",
            " 4   obscene        159571 non-null  int64 \n",
            " 5   threat         159571 non-null  int64 \n",
            " 6   insult         159571 non-null  int64 \n",
            " 7   identity_hate  159571 non-null  int64 \n",
            "dtypes: int64(6), object(2)\n",
            "memory usage: 9.7+ MB\n"
          ]
        }
      ]
    },
    {
      "cell_type": "code",
      "metadata": {
        "colab": {
          "base_uri": "https://localhost:8080/"
        },
        "id": "-S7NB6CnKyDK",
        "outputId": "50b56195-e9c4-4bba-8a68-94610da48535"
      },
      "source": [
        "#print some comments for insights\n",
        "def print_insights(x):\n",
        "    for i in range(10):\n",
        "        print(f'{i+1} :{x[i]}')\n",
        "        print('\\n')\n",
        "print_insights(train_data['comment_text'])"
      ],
      "execution_count": 79,
      "outputs": [
        {
          "output_type": "stream",
          "name": "stdout",
          "text": [
            "1 :Explanation\n",
            "Why the edits made under my username Hardcore Metallica Fan were reverted? They weren't vandalisms, just closure on some GAs after I voted at New York Dolls FAC. And please don't remove the template from the talk page since I'm retired now.89.205.38.27\n",
            "\n",
            "\n",
            "2 :D'aww! He matches this background colour I'm seemingly stuck with. Thanks.  (talk) 21:51, January 11, 2016 (UTC)\n",
            "\n",
            "\n",
            "3 :Hey man, I'm really not trying to edit war. It's just that this guy is constantly removing relevant information and talking to me through edits instead of my talk page. He seems to care more about the formatting than the actual info.\n",
            "\n",
            "\n",
            "4 :\"\n",
            "More\n",
            "I can't make any real suggestions on improvement - I wondered if the section statistics should be later on, or a subsection of \"\"types of accidents\"\"  -I think the references may need tidying so that they are all in the exact same format ie date format etc. I can do that later on, if no-one else does first - if you have any preferences for formatting style on references or want to do it yourself please let me know.\n",
            "\n",
            "There appears to be a backlog on articles for review so I guess there may be a delay until a reviewer turns up. It's listed in the relevant form eg Wikipedia:Good_article_nominations#Transport  \"\n",
            "\n",
            "\n",
            "5 :You, sir, are my hero. Any chance you remember what page that's on?\n",
            "\n",
            "\n",
            "6 :\"\n",
            "\n",
            "Congratulations from me as well, use the tools well.  · talk \"\n",
            "\n",
            "\n",
            "7 :COCKSUCKER BEFORE YOU PISS AROUND ON MY WORK\n",
            "\n",
            "\n",
            "8 :Your vandalism to the Matt Shirvington article has been reverted.  Please don't do it again, or you will be banned.\n",
            "\n",
            "\n",
            "9 :Sorry if the word 'nonsense' was offensive to you. Anyway, I'm not intending to write anything in the article(wow they would jump on me for vandalism), I'm merely requesting that it be more encyclopedic so one can use it for school as a reference. I have been to the selective breeding page but it's almost a stub. It points to 'animal breeding' which is a short messy article that gives you no info. There must be someone around with expertise in eugenics? 93.161.107.169\n",
            "\n",
            "\n",
            "10 :alignment on this subject and which are contrary to those of DuLithgow\n",
            "\n",
            "\n"
          ]
        }
      ]
    },
    {
      "cell_type": "code",
      "metadata": {
        "colab": {
          "base_uri": "https://localhost:8080/"
        },
        "id": "EZWgx1sfogYj",
        "outputId": "081840e2-7a5d-4034-9011-7fab6506cfa7"
      },
      "source": [
        "#print value counts for all columns\n",
        "for i in train_data.columns[2:]:\n",
        "    print(f'{i}')\n",
        "    print(f'{train_data[i].value_counts()}')\n",
        "    print('\\n')"
      ],
      "execution_count": 80,
      "outputs": [
        {
          "output_type": "stream",
          "name": "stdout",
          "text": [
            "toxic\n",
            "0    144277\n",
            "1     15294\n",
            "Name: toxic, dtype: int64\n",
            "\n",
            "\n",
            "severe_toxic\n",
            "0    157976\n",
            "1      1595\n",
            "Name: severe_toxic, dtype: int64\n",
            "\n",
            "\n",
            "obscene\n",
            "0    151122\n",
            "1      8449\n",
            "Name: obscene, dtype: int64\n",
            "\n",
            "\n",
            "threat\n",
            "0    159093\n",
            "1       478\n",
            "Name: threat, dtype: int64\n",
            "\n",
            "\n",
            "insult\n",
            "0    151694\n",
            "1      7877\n",
            "Name: insult, dtype: int64\n",
            "\n",
            "\n",
            "identity_hate\n",
            "0    158166\n",
            "1      1405\n",
            "Name: identity_hate, dtype: int64\n",
            "\n",
            "\n"
          ]
        }
      ]
    },
    {
      "cell_type": "code",
      "metadata": {
        "colab": {
          "base_uri": "https://localhost:8080/"
        },
        "id": "6b-CGtHCp-Xa",
        "outputId": "58f512ce-d617-46b7-afaa-d5d46c5d5efd"
      },
      "source": [
        "#another way of value count for each column\n",
        "data_count=train_data.iloc[:,2:].sum()\n",
        "def print_value_count():\n",
        "    print(data_count)\n",
        "    print(list(data_count.keys()))\n",
        "    print(list(data_count.values))\n",
        "\n",
        "print_value_count()"
      ],
      "execution_count": 81,
      "outputs": [
        {
          "output_type": "stream",
          "name": "stdout",
          "text": [
            "toxic            15294\n",
            "severe_toxic      1595\n",
            "obscene           8449\n",
            "threat             478\n",
            "insult            7877\n",
            "identity_hate     1405\n",
            "dtype: int64\n",
            "['toxic', 'severe_toxic', 'obscene', 'threat', 'insult', 'identity_hate']\n",
            "[15294, 1595, 8449, 478, 7877, 1405]\n"
          ]
        }
      ]
    },
    {
      "cell_type": "code",
      "metadata": {
        "colab": {
          "base_uri": "https://localhost:8080/",
          "height": 269
        },
        "id": "dnKLJs0hxlFn",
        "outputId": "39108db9-d363-4cbb-c12c-0d7b0b07817c"
      },
      "source": [
        "#plot in bar graph\n",
        "def plot_bar(x,y):\n",
        "    plt.bar(x,y,color=['blue','red','green','yellow','brown'])\n",
        "    for i in range(len(x)):\n",
        "        plt.text(i,y[i],y[i])\n",
        "        \n",
        "plot_bar(list(data_count.keys()),list(data_count.values))"
      ],
      "execution_count": 82,
      "outputs": [
        {
          "output_type": "display_data",
          "data": {
            "image/png": "[encoded data removed]",
            "text/plain": [
              "<Figure size 432x288 with 1 Axes>"
            ]
          },
          "metadata": {
            "needs_background": "light"
          }
        }
      ]
    },
    {
      "cell_type": "markdown",
      "metadata": {
        "id": "Ay5TlWmmKWMP"
      },
      "source": [
        "##**Preprocess the data**"
      ]
    },
    {
      "cell_type": "code",
      "metadata": {
        "id": "o269Owc_xza1"
      },
      "source": [
        "#substitute all alphanumberic values with space\n",
        "remove_alnum=lambda x: re.sub('\\w*\\d\\w*','',x)  #match the words with regex sequence\n",
        "\n",
        "#convert into lower case\n",
        "to_lower=lambda x: x.lower()\n",
        "\n",
        "#substitute all '\\n' with the space\n",
        "remove_newline=lambda x: re.sub('\\n',' ', x)\n",
        "\n",
        "train_data['comment_text']=train_data['comment_text'].map(remove_alnum).map(to_lower).map(remove_newline)"
      ],
      "execution_count": 83,
      "outputs": []
    },
    {
      "cell_type": "code",
      "metadata": {
        "colab": {
          "base_uri": "https://localhost:8080/"
        },
        "id": "GnKws0qFNqAN",
        "outputId": "a12be643-41d5-4cc1-f945-926be4853eac"
      },
      "source": [
        "print_insights(train_data['comment_text'])"
      ],
      "execution_count": 84,
      "outputs": [
        {
          "output_type": "stream",
          "name": "stdout",
          "text": [
            "1 :explanation why the edits made under my username hardcore metallica fan were reverted? they weren't vandalisms, just closure on some gas after i voted at new york dolls fac. and please don't remove the template from the talk page since i'm retired now....\n",
            "\n",
            "\n",
            "2 :d'aww! he matches this background colour i'm seemingly stuck with. thanks.  (talk) :, january ,  (utc)\n",
            "\n",
            "\n",
            "3 :hey man, i'm really not trying to edit war. it's just that this guy is constantly removing relevant information and talking to me through edits instead of my talk page. he seems to care more about the formatting than the actual info.\n",
            "\n",
            "\n",
            "4 :\" more i can't make any real suggestions on improvement - i wondered if the section statistics should be later on, or a subsection of \"\"types of accidents\"\"  -i think the references may need tidying so that they are all in the exact same format ie date format etc. i can do that later on, if no-one else does first - if you have any preferences for formatting style on references or want to do it yourself please let me know.  there appears to be a backlog on articles for review so i guess there may be a delay until a reviewer turns up. it's listed in the relevant form eg wikipedia:good_article_nominations#transport  \"\n",
            "\n",
            "\n",
            "5 :you, sir, are my hero. any chance you remember what page that's on?\n",
            "\n",
            "\n",
            "6 :\"  congratulations from me as well, use the tools well.  · talk \"\n",
            "\n",
            "\n",
            "7 :cocksucker before you piss around on my work\n",
            "\n",
            "\n",
            "8 :your vandalism to the matt shirvington article has been reverted.  please don't do it again, or you will be banned.\n",
            "\n",
            "\n",
            "9 :sorry if the word 'nonsense' was offensive to you. anyway, i'm not intending to write anything in the article(wow they would jump on me for vandalism), i'm merely requesting that it be more encyclopedic so one can use it for school as a reference. i have been to the selective breeding page but it's almost a stub. it points to 'animal breeding' which is a short messy article that gives you no info. there must be someone around with expertise in eugenics? ...\n",
            "\n",
            "\n",
            "10 :alignment on this subject and which are contrary to those of dulithgow\n",
            "\n",
            "\n"
          ]
        }
      ]
    },
    {
      "cell_type": "code",
      "metadata": {
        "colab": {
          "base_uri": "https://localhost:8080/"
        },
        "id": "Y6i_w1NPUwpV",
        "outputId": "f6580267-4436-4740-9f0b-ca33b71b6f0e"
      },
      "source": [
        "def preprocess_text(txt):\n",
        "    x=txt.split()\n",
        "    processed=[]\n",
        "    for i in x:\n",
        "        p=re.findall(\"[a-zA-Z,.!-']*\",i)\n",
        "        s=\" \".join(p)\n",
        "        s=re.sub('\\s+','',s)\n",
        "        processed.append(s)\n",
        "    return \" \".join(processed)\n",
        "\n",
        "train_data['comment_text']=train_data['comment_text'].map(preprocess_text)\n",
        "print_insights(train_data['comment_text'])"
      ],
      "execution_count": 85,
      "outputs": [
        {
          "output_type": "stream",
          "name": "stdout",
          "text": [
            "1 :explanation why the edits made under my username hardcore metallica fan were reverted they weren't vandalisms, just closure on some gas after i voted at new york dolls fac. and please don't remove the template from the talk page since i'm retired now....\n",
            "\n",
            "\n",
            "2 :d'aww! he matches this background colour i'm seemingly stuck with. thanks. talk , january , utc\n",
            "\n",
            "\n",
            "3 :hey man, i'm really not trying to edit war. it's just that this guy is constantly removing relevant information and talking to me through edits instead of my talk page. he seems to care more about the formatting than the actual info.\n",
            "\n",
            "\n",
            "4 :\" more i can't make any real suggestions on improvement  i wondered if the section statistics should be later on, or a subsection of \"\"types of accidents\"\" i think the references may need tidying so that they are all in the exact same format ie date format etc. i can do that later on, if noone else does first  if you have any preferences for formatting style on references or want to do it yourself please let me know. there appears to be a backlog on articles for review so i guess there may be a delay until a reviewer turns up. it's listed in the relevant form eg wikipediagoodarticlenominations#transport \"\n",
            "\n",
            "\n",
            "5 :you, sir, are my hero. any chance you remember what page that's on\n",
            "\n",
            "\n",
            "6 :\" congratulations from me as well, use the tools well.  talk \"\n",
            "\n",
            "\n",
            "7 :cocksucker before you piss around on my work\n",
            "\n",
            "\n",
            "8 :your vandalism to the matt shirvington article has been reverted. please don't do it again, or you will be banned.\n",
            "\n",
            "\n",
            "9 :sorry if the word 'nonsense' was offensive to you. anyway, i'm not intending to write anything in the articlewow they would jump on me for vandalism, i'm merely requesting that it be more encyclopedic so one can use it for school as a reference. i have been to the selective breeding page but it's almost a stub. it points to 'animal breeding' which is a short messy article that gives you no info. there must be someone around with expertise in eugenics ...\n",
            "\n",
            "\n",
            "10 :alignment on this subject and which are contrary to those of dulithgow\n",
            "\n",
            "\n"
          ]
        }
      ]
    },
    {
      "cell_type": "markdown",
      "metadata": {
        "id": "qswarY1QXGmY"
      },
      "source": [
        "##**Create word cloud to see words in each category apearning the most**"
      ]
    },
    {
      "cell_type": "markdown",
      "metadata": {
        "id": "5wTBsZ0zYS7-"
      },
      "source": [
        "####**Create 6 separate datasets for each category**"
      ]
    },
    {
      "cell_type": "code",
      "metadata": {
        "colab": {
          "base_uri": "https://localhost:8080/",
          "height": 204
        },
        "id": "l-3mCsQzXAKP",
        "outputId": "7edd8f52-d080-4c27-8fdc-5760c1f96293"
      },
      "source": [
        "train_data.head(5)"
      ],
      "execution_count": 86,
      "outputs": [
        {
          "output_type": "execute_result",
          "data": {
            "text/html": [
              "<div>\n",
              "<style scoped>\n",
              "    .dataframe tbody tr th:only-of-type {\n",
              "        vertical-align: middle;\n",
              "    }\n",
              "\n",
              "    .dataframe tbody tr th {\n",
              "        vertical-align: top;\n",
              "    }\n",
              "\n",
              "    .dataframe thead th {\n",
              "        text-align: right;\n",
              "    }\n",
              "</style>\n",
              "<table border=\"1\" class=\"dataframe\">\n",
              "  <thead>\n",
              "    <tr style=\"text-align: right;\">\n",
              "      <th></th>\n",
              "      <th>id</th>\n",
              "      <th>comment_text</th>\n",
              "      <th>toxic</th>\n",
              "      <th>severe_toxic</th>\n",
              "      <th>obscene</th>\n",
              "      <th>threat</th>\n",
              "      <th>insult</th>\n",
              "      <th>identity_hate</th>\n",
              "    </tr>\n",
              "  </thead>\n",
              "  <tbody>\n",
              "    <tr>\n",
              "      <th>0</th>\n",
              "      <td>0000997932d777bf</td>\n",
              "      <td>explanation why the edits made under my userna...</td>\n",
              "      <td>0</td>\n",
              "      <td>0</td>\n",
              "      <td>0</td>\n",
              "      <td>0</td>\n",
              "      <td>0</td>\n",
              "      <td>0</td>\n",
              "    </tr>\n",
              "    <tr>\n",
              "      <th>1</th>\n",
              "      <td>000103f0d9cfb60f</td>\n",
              "      <td>d'aww! he matches this background colour i'm s...</td>\n",
              "      <td>0</td>\n",
              "      <td>0</td>\n",
              "      <td>0</td>\n",
              "      <td>0</td>\n",
              "      <td>0</td>\n",
              "      <td>0</td>\n",
              "    </tr>\n",
              "    <tr>\n",
              "      <th>2</th>\n",
              "      <td>000113f07ec002fd</td>\n",
              "      <td>hey man, i'm really not trying to edit war. it...</td>\n",
              "      <td>0</td>\n",
              "      <td>0</td>\n",
              "      <td>0</td>\n",
              "      <td>0</td>\n",
              "      <td>0</td>\n",
              "      <td>0</td>\n",
              "    </tr>\n",
              "    <tr>\n",
              "      <th>3</th>\n",
              "      <td>0001b41b1c6bb37e</td>\n",
              "      <td>\" more i can't make any real suggestions on im...</td>\n",
              "      <td>0</td>\n",
              "      <td>0</td>\n",
              "      <td>0</td>\n",
              "      <td>0</td>\n",
              "      <td>0</td>\n",
              "      <td>0</td>\n",
              "    </tr>\n",
              "    <tr>\n",
              "      <th>4</th>\n",
              "      <td>0001d958c54c6e35</td>\n",
              "      <td>you, sir, are my hero. any chance you remember...</td>\n",
              "      <td>0</td>\n",
              "      <td>0</td>\n",
              "      <td>0</td>\n",
              "      <td>0</td>\n",
              "      <td>0</td>\n",
              "      <td>0</td>\n",
              "    </tr>\n",
              "  </tbody>\n",
              "</table>\n",
              "</div>"
            ],
            "text/plain": [
              "                 id  ... identity_hate\n",
              "0  0000997932d777bf  ...             0\n",
              "1  000103f0d9cfb60f  ...             0\n",
              "2  000113f07ec002fd  ...             0\n",
              "3  0001b41b1c6bb37e  ...             0\n",
              "4  0001d958c54c6e35  ...             0\n",
              "\n",
              "[5 rows x 8 columns]"
            ]
          },
          "metadata": {},
          "execution_count": 86
        }
      ]
    },
    {
      "cell_type": "code",
      "metadata": {
        "id": "v_2BqYF4Ykp-"
      },
      "source": [
        "data_toxic=train_data.iloc[:,:3]"
      ],
      "execution_count": 87,
      "outputs": []
    },
    {
      "cell_type": "code",
      "metadata": {
        "id": "WpULCzsWYjMK"
      },
      "source": [
        "data_sevtoxic=train_data.loc[:,['id','comment_text','severe_toxic']]"
      ],
      "execution_count": 88,
      "outputs": []
    },
    {
      "cell_type": "code",
      "metadata": {
        "id": "UyM_OzPfY-xS"
      },
      "source": [
        "data_obscene=train_data.loc[:,['id','comment_text','obscene']]"
      ],
      "execution_count": 89,
      "outputs": []
    },
    {
      "cell_type": "code",
      "metadata": {
        "id": "2ubjzu03Z1Jt"
      },
      "source": [
        "data_threat=train_data.loc[:,['id','comment_text','threat']]"
      ],
      "execution_count": 90,
      "outputs": []
    },
    {
      "cell_type": "code",
      "metadata": {
        "id": "o26cLTYFaFEB"
      },
      "source": [
        "data_insult=train_data.loc[:,['id','comment_text','insult']]"
      ],
      "execution_count": 91,
      "outputs": []
    },
    {
      "cell_type": "code",
      "metadata": {
        "id": "1DzaQmKeaMx8"
      },
      "source": [
        "data_idhate=train_data.loc[:,['id','comment_text','identity_hate']]"
      ],
      "execution_count": 92,
      "outputs": []
    },
    {
      "cell_type": "markdown",
      "metadata": {
        "id": "nvYgyMqpaWDw"
      },
      "source": [
        "####**Create word cloud**"
      ]
    },
    {
      "cell_type": "code",
      "metadata": {
        "id": "dhi-X89bb9sB"
      },
      "source": [
        "# datase=data_toxic[data_toxic['toxic']==1].comment_text"
      ],
      "execution_count": 93,
      "outputs": []
    },
    {
      "cell_type": "code",
      "metadata": {
        "id": "3guxX9FWaTKk"
      },
      "source": [
        "def wordcloud(dataset,label):\n",
        "    text=dataset[dataset[label]==1].comment_text.values  #creates list of all sentences of one label of comment\n",
        "    wc=WordCloud().generate(' '.join(text))   #.join() here joins all sentences from list by space to a single string\n",
        "    plt.imshow(wc,interpolation='bilinear')\n",
        "    plt.axis('off')\n",
        "    plt.show()"
      ],
      "execution_count": 94,
      "outputs": []
    },
    {
      "cell_type": "code",
      "metadata": {
        "colab": {
          "base_uri": "https://localhost:8080/",
          "height": 198
        },
        "id": "Fh0sdo3ce2Xm",
        "outputId": "ed7c16eb-64f4-4aaf-ac82-8e4e154c8a7e"
      },
      "source": [
        "wordcloud(data_idhate,'identity_hate')"
      ],
      "execution_count": 95,
      "outputs": [
        {
          "output_type": "display_data",
          "data": {
            "image/png": "[encoded data removed]",
            "text/plain": [
              "<Figure size 432x288 with 1 Axes>"
            ]
          },
          "metadata": {
            "needs_background": "light"
          }
        }
      ]
    },
    {
      "cell_type": "markdown",
      "metadata": {
        "id": "KMVJgpMajU7c"
      },
      "source": [
        "##**Create a balanced dataset**"
      ]
    },
    {
      "cell_type": "code",
      "metadata": {
        "colab": {
          "base_uri": "https://localhost:8080/"
        },
        "id": "b52psmtYR_PP",
        "outputId": "ee0b80e6-e0f7-4179-c6a9-33a6fa64aea9"
      },
      "source": [
        "print_value_count()"
      ],
      "execution_count": 96,
      "outputs": [
        {
          "output_type": "stream",
          "name": "stdout",
          "text": [
            "toxic            15294\n",
            "severe_toxic      1595\n",
            "obscene           8449\n",
            "threat             478\n",
            "insult            7877\n",
            "identity_hate     1405\n",
            "dtype: int64\n",
            "['toxic', 'severe_toxic', 'obscene', 'threat', 'insult', 'identity_hate']\n",
            "[15294, 1595, 8449, 478, 7877, 1405]\n"
          ]
        }
      ]
    },
    {
      "cell_type": "code",
      "metadata": {
        "colab": {
          "base_uri": "https://localhost:8080/",
          "height": 376
        },
        "id": "En3zYQZUiTve",
        "outputId": "1f1a1918-af70-407d-8c3c-e1a8d0ea4f2f"
      },
      "source": [
        "#balanced data for toxic\n",
        "data_toxic_0=data_toxic[data_toxic['toxic']==0].iloc[:5000,:]\n",
        "data_toxic_1=data_toxic[data_toxic['toxic']==1].iloc[:5000,:]\n",
        "data_toxic_balanced=pd.concat([data_toxic_0,data_toxic_1])\n",
        "print(data_toxic_balanced.shape)\n",
        "\n",
        "data_toxic_balanced=utils.shuffle(data_toxic_balanced,random_state=48)\n",
        "data_toxic_balanced.head(10)"
      ],
      "execution_count": 97,
      "outputs": [
        {
          "output_type": "stream",
          "name": "stdout",
          "text": [
            "(10000, 3)\n"
          ]
        },
        {
          "output_type": "execute_result",
          "data": {
            "text/html": [
              "<div>\n",
              "<style scoped>\n",
              "    .dataframe tbody tr th:only-of-type {\n",
              "        vertical-align: middle;\n",
              "    }\n",
              "\n",
              "    .dataframe tbody tr th {\n",
              "        vertical-align: top;\n",
              "    }\n",
              "\n",
              "    .dataframe thead th {\n",
              "        text-align: right;\n",
              "    }\n",
              "</style>\n",
              "<table border=\"1\" class=\"dataframe\">\n",
              "  <thead>\n",
              "    <tr style=\"text-align: right;\">\n",
              "      <th></th>\n",
              "      <th>id</th>\n",
              "      <th>comment_text</th>\n",
              "      <th>toxic</th>\n",
              "    </tr>\n",
              "  </thead>\n",
              "  <tbody>\n",
              "    <tr>\n",
              "      <th>398</th>\n",
              "      <td>00fa6072f2eb086b</td>\n",
              "      <td>\" canonicity in general i've been involved in ...</td>\n",
              "      <td>0</td>\n",
              "    </tr>\n",
              "    <tr>\n",
              "      <th>40138</th>\n",
              "      <td>6b1fce15f888a487</td>\n",
              "      <td>\" ban my fat ass, bitch! i need an internet br...</td>\n",
              "      <td>1</td>\n",
              "    </tr>\n",
              "    <tr>\n",
              "      <th>2207</th>\n",
              "      <td>05ffc9ec106ecd6e</td>\n",
              "      <td>\" smile album rerecording vocals how much it d...</td>\n",
              "      <td>0</td>\n",
              "    </tr>\n",
              "    <tr>\n",
              "      <th>1607</th>\n",
              "      <td>044df95de9cc9daa</td>\n",
              "      <td>can you offer advice on how to get the kanji</td>\n",
              "      <td>0</td>\n",
              "    </tr>\n",
              "    <tr>\n",
              "      <th>1719</th>\n",
              "      <td>04aa3354e0bff7da</td>\n",
              "      <td>\" creationist category as there are no cites i...</td>\n",
              "      <td>0</td>\n",
              "    </tr>\n",
              "    <tr>\n",
              "      <th>18565</th>\n",
              "      <td>30fcf9fc2ff0e679</td>\n",
              "      <td>a wikipedia administrator! nothing more ridicu...</td>\n",
              "      <td>1</td>\n",
              "    </tr>\n",
              "    <tr>\n",
              "      <th>44770</th>\n",
              "      <td>779cf821fbd61418</td>\n",
              "      <td>dude... at the end you fucked my article secto...</td>\n",
              "      <td>1</td>\n",
              "    </tr>\n",
              "    <tr>\n",
              "      <th>838</th>\n",
              "      <td>024859995cf6379e</td>\n",
              "      <td>thank you for experimenting with wikipedia. yo...</td>\n",
              "      <td>0</td>\n",
              "    </tr>\n",
              "    <tr>\n",
              "      <th>37305</th>\n",
              "      <td>6398a98569c2bf37</td>\n",
              "      <td>\" google name origin \"\"goo  ogle\"\". stare at t...</td>\n",
              "      <td>1</td>\n",
              "    </tr>\n",
              "    <tr>\n",
              "      <th>33200</th>\n",
              "      <td>5864d1bbd9f030d0</td>\n",
              "      <td>what go lick a pig you arab muslim peice of scum.</td>\n",
              "      <td>1</td>\n",
              "    </tr>\n",
              "  </tbody>\n",
              "</table>\n",
              "</div>"
            ],
            "text/plain": [
              "                     id  ... toxic\n",
              "398    00fa6072f2eb086b  ...     0\n",
              "40138  6b1fce15f888a487  ...     1\n",
              "2207   05ffc9ec106ecd6e  ...     0\n",
              "1607   044df95de9cc9daa  ...     0\n",
              "1719   04aa3354e0bff7da  ...     0\n",
              "18565  30fcf9fc2ff0e679  ...     1\n",
              "44770  779cf821fbd61418  ...     1\n",
              "838    024859995cf6379e  ...     0\n",
              "37305  6398a98569c2bf37  ...     1\n",
              "33200  5864d1bbd9f030d0  ...     1\n",
              "\n",
              "[10 rows x 3 columns]"
            ]
          },
          "metadata": {},
          "execution_count": 97
        }
      ]
    },
    {
      "cell_type": "code",
      "metadata": {
        "colab": {
          "base_uri": "https://localhost:8080/"
        },
        "id": "_JpASwceGGgE",
        "outputId": "78b1c85a-f079-4bbb-b4e1-8bd738b819d1"
      },
      "source": [
        "#balanced data for severe_toxic\n",
        "data_sevtoxic_0=data_sevtoxic[data_sevtoxic['severe_toxic']==0].iloc[:2000,:]\n",
        "data_sevtoxic_1=data_sevtoxic[data_sevtoxic['severe_toxic']==1]\n",
        "data_sevtoxic_balanced=pd.concat([data_sevtoxic_0,data_sevtoxic_1])\n",
        "print(data_sevtoxic_balanced.shape)\n",
        "\n",
        "data_sevtoxic_balanced=utils.shuffle(data_sevtoxic_balanced,random_state=48)"
      ],
      "execution_count": 98,
      "outputs": [
        {
          "output_type": "stream",
          "name": "stdout",
          "text": [
            "(3595, 3)\n"
          ]
        }
      ]
    },
    {
      "cell_type": "code",
      "metadata": {
        "colab": {
          "base_uri": "https://localhost:8080/"
        },
        "id": "1S1bViAcIHZN",
        "outputId": "03eb01af-5af5-42e2-a075-5606c5bf68a6"
      },
      "source": [
        "#balanced data for obscene\n",
        "data_obscene_0=data_obscene[data_obscene['obscene']==0].iloc[:5000,:]\n",
        "data_obscene_1=data_obscene[data_obscene['obscene']==1].iloc[:5000,:]\n",
        "data_obscene_balanced=pd.concat([data_obscene_0,data_obscene_1])\n",
        "print(data_obscene_balanced.shape)\n",
        "\n",
        "data_obscene_balanced=utils.shuffle(data_obscene_balanced,random_state=48)"
      ],
      "execution_count": 99,
      "outputs": [
        {
          "output_type": "stream",
          "name": "stdout",
          "text": [
            "(10000, 3)\n"
          ]
        }
      ]
    },
    {
      "cell_type": "code",
      "metadata": {
        "colab": {
          "base_uri": "https://localhost:8080/"
        },
        "id": "qVwtrAI74p1g",
        "outputId": "eda638cd-605c-47b3-91e7-5206416bded4"
      },
      "source": [
        "#balanced data for threat\n",
        "data_threat_0=data_threat[data_threat['threat']==0].iloc[:1200,:]\n",
        "data_threat_1=data_threat[data_threat['threat']==1]\n",
        "data_threat_balanced=pd.concat([data_threat_0,data_threat_1])\n",
        "print(data_threat_balanced.shape)\n",
        "\n",
        "data_threat_balanced=utils.shuffle(data_threat_balanced,random_state=48)"
      ],
      "execution_count": 100,
      "outputs": [
        {
          "output_type": "stream",
          "name": "stdout",
          "text": [
            "(1678, 3)\n"
          ]
        }
      ]
    },
    {
      "cell_type": "code",
      "metadata": {
        "colab": {
          "base_uri": "https://localhost:8080/"
        },
        "id": "1EAEpWoz5V3Q",
        "outputId": "3803c340-bbe9-48bb-920a-6a2d02cd2f3c"
      },
      "source": [
        "#balanced data for insult\n",
        "data_insult_0=data_insult[data_insult['insult']==0].iloc[:5000,:]\n",
        "data_insult_1=data_insult[data_insult['insult']==1].iloc[:5000,:]\n",
        "data_insult_balanced=pd.concat([data_insult_0,data_insult_1])\n",
        "print(data_insult_balanced.shape)\n",
        "\n",
        "data_insult_balanced=utils.shuffle(data_insult_balanced,random_state=48)"
      ],
      "execution_count": 101,
      "outputs": [
        {
          "output_type": "stream",
          "name": "stdout",
          "text": [
            "(10000, 3)\n"
          ]
        }
      ]
    },
    {
      "cell_type": "code",
      "metadata": {
        "colab": {
          "base_uri": "https://localhost:8080/",
          "height": 221
        },
        "id": "B2QchwmH6HDm",
        "outputId": "b653df64-742b-4112-991e-35d10afe48b5"
      },
      "source": [
        "#balanced data for identity hate\n",
        "data_idhate_0=data_idhate[data_idhate['identity_hate']==0].iloc[:2501,:]\n",
        "data_idhate_1=data_idhate[data_idhate['identity_hate']==1]\n",
        "data_idhate_balanced=pd.concat([data_idhate_0,data_idhate_1])\n",
        "\n",
        "\n",
        "data_idhate_balanced=utils.shuffle(data_idhate_balanced,random_state=48)\n",
        "print(data_idhate_balanced.shape)\n",
        "data_idhate_balanced.head(5)"
      ],
      "execution_count": 102,
      "outputs": [
        {
          "output_type": "stream",
          "name": "stdout",
          "text": [
            "(3906, 3)\n"
          ]
        },
        {
          "output_type": "execute_result",
          "data": {
            "text/html": [
              "<div>\n",
              "<style scoped>\n",
              "    .dataframe tbody tr th:only-of-type {\n",
              "        vertical-align: middle;\n",
              "    }\n",
              "\n",
              "    .dataframe tbody tr th {\n",
              "        vertical-align: top;\n",
              "    }\n",
              "\n",
              "    .dataframe thead th {\n",
              "        text-align: right;\n",
              "    }\n",
              "</style>\n",
              "<table border=\"1\" class=\"dataframe\">\n",
              "  <thead>\n",
              "    <tr style=\"text-align: right;\">\n",
              "      <th></th>\n",
              "      <th>id</th>\n",
              "      <th>comment_text</th>\n",
              "      <th>identity_hate</th>\n",
              "    </tr>\n",
              "  </thead>\n",
              "  <tbody>\n",
              "    <tr>\n",
              "      <th>59279</th>\n",
              "      <td>9ecf3329158e0276</td>\n",
              "      <td>jew get the fuck out of here you jewish son of...</td>\n",
              "      <td>1</td>\n",
              "    </tr>\n",
              "    <tr>\n",
              "      <th>2252</th>\n",
              "      <td>0617a8b319fde352</td>\n",
              "      <td>\" ola thank you for experimenting with wikiped...</td>\n",
              "      <td>0</td>\n",
              "    </tr>\n",
              "    <tr>\n",
              "      <th>1094</th>\n",
              "      <td>02fcd5c28005823d</td>\n",
              "      <td>yes, i concur most wholeheartedly!! i know the...</td>\n",
              "      <td>0</td>\n",
              "    </tr>\n",
              "    <tr>\n",
              "      <th>2168</th>\n",
              "      <td>05deec00d640ca08</td>\n",
              "      <td>i'll extend the hold time.</td>\n",
              "      <td>0</td>\n",
              "    </tr>\n",
              "    <tr>\n",
              "      <th>2089</th>\n",
              "      <td>05a6e59c979e05f3</td>\n",
              "      <td>knock it off! spinningspark, quit it! you've b...</td>\n",
              "      <td>0</td>\n",
              "    </tr>\n",
              "  </tbody>\n",
              "</table>\n",
              "</div>"
            ],
            "text/plain": [
              "                     id  ... identity_hate\n",
              "59279  9ecf3329158e0276  ...             1\n",
              "2252   0617a8b319fde352  ...             0\n",
              "1094   02fcd5c28005823d  ...             0\n",
              "2168   05deec00d640ca08  ...             0\n",
              "2089   05a6e59c979e05f3  ...             0\n",
              "\n",
              "[5 rows x 3 columns]"
            ]
          },
          "metadata": {},
          "execution_count": 102
        }
      ]
    },
    {
      "cell_type": "markdown",
      "metadata": {
        "id": "Nh8XWOTI7Ugg"
      },
      "source": [
        "##**Model**"
      ]
    },
    {
      "cell_type": "code",
      "metadata": {
        "colab": {
          "base_uri": "https://localhost:8080/"
        },
        "id": "zecH0slf65O5",
        "outputId": "137a94af-3770-4367-f34d-2e20ceb9b9b9"
      },
      "source": [
        "!pip install tensorflow_text"
      ],
      "execution_count": 103,
      "outputs": [
        {
          "output_type": "stream",
          "name": "stdout",
          "text": [
            "Requirement already satisfied: tensorflow_text in /usr/local/lib/python3.7/dist-packages (2.7.3)\n",
            "Requirement already satisfied: tensorflow<2.8,>=2.7.0 in /usr/local/lib/python3.7/dist-packages (from tensorflow_text) (2.7.0)\n",
            "Requirement already satisfied: tensorflow-hub>=0.8.0 in /usr/local/lib/python3.7/dist-packages (from tensorflow_text) (0.12.0)\n",
            "Requirement already satisfied: numpy>=1.14.5 in /usr/local/lib/python3.7/dist-packages (from tensorflow<2.8,>=2.7.0->tensorflow_text) (1.19.5)\n",
            "Requirement already satisfied: keras<2.8,>=2.7.0rc0 in /usr/local/lib/python3.7/dist-packages (from tensorflow<2.8,>=2.7.0->tensorflow_text) (2.7.0)\n",
            "Requirement already satisfied: opt-einsum>=2.3.2 in /usr/local/lib/python3.7/dist-packages (from tensorflow<2.8,>=2.7.0->tensorflow_text) (3.3.0)\n",
            "Requirement already satisfied: protobuf>=3.9.2 in /usr/local/lib/python3.7/dist-packages (from tensorflow<2.8,>=2.7.0->tensorflow_text) (3.17.3)\n",
            "Requirement already satisfied: tensorflow-estimator<2.8,~=2.7.0rc0 in /usr/local/lib/python3.7/dist-packages (from tensorflow<2.8,>=2.7.0->tensorflow_text) (2.7.0)\n",
            "Requirement already satisfied: google-pasta>=0.1.1 in /usr/local/lib/python3.7/dist-packages (from tensorflow<2.8,>=2.7.0->tensorflow_text) (0.2.0)\n",
            "Requirement already satisfied: six>=1.12.0 in /usr/local/lib/python3.7/dist-packages (from tensorflow<2.8,>=2.7.0->tensorflow_text) (1.15.0)\n",
            "Requirement already satisfied: grpcio<2.0,>=1.24.3 in /usr/local/lib/python3.7/dist-packages (from tensorflow<2.8,>=2.7.0->tensorflow_text) (1.42.0)\n",
            "Requirement already satisfied: astunparse>=1.6.0 in /usr/local/lib/python3.7/dist-packages (from tensorflow<2.8,>=2.7.0->tensorflow_text) (1.6.3)\n",
            "Requirement already satisfied: tensorflow-io-gcs-filesystem>=0.21.0 in /usr/local/lib/python3.7/dist-packages (from tensorflow<2.8,>=2.7.0->tensorflow_text) (0.22.0)\n",
            "Requirement already satisfied: keras-preprocessing>=1.1.1 in /usr/local/lib/python3.7/dist-packages (from tensorflow<2.8,>=2.7.0->tensorflow_text) (1.1.2)\n",
            "Requirement already satisfied: wrapt>=1.11.0 in /usr/local/lib/python3.7/dist-packages (from tensorflow<2.8,>=2.7.0->tensorflow_text) (1.13.3)\n",
            "Requirement already satisfied: termcolor>=1.1.0 in /usr/local/lib/python3.7/dist-packages (from tensorflow<2.8,>=2.7.0->tensorflow_text) (1.1.0)\n",
            "Requirement already satisfied: h5py>=2.9.0 in /usr/local/lib/python3.7/dist-packages (from tensorflow<2.8,>=2.7.0->tensorflow_text) (3.1.0)\n",
            "Requirement already satisfied: flatbuffers<3.0,>=1.12 in /usr/local/lib/python3.7/dist-packages (from tensorflow<2.8,>=2.7.0->tensorflow_text) (2.0)\n",
            "Requirement already satisfied: typing-extensions>=3.6.6 in /usr/local/lib/python3.7/dist-packages (from tensorflow<2.8,>=2.7.0->tensorflow_text) (3.10.0.2)\n",
            "Requirement already satisfied: gast<0.5.0,>=0.2.1 in /usr/local/lib/python3.7/dist-packages (from tensorflow<2.8,>=2.7.0->tensorflow_text) (0.4.0)\n",
            "Requirement already satisfied: tensorboard~=2.6 in /usr/local/lib/python3.7/dist-packages (from tensorflow<2.8,>=2.7.0->tensorflow_text) (2.7.0)\n",
            "Requirement already satisfied: wheel<1.0,>=0.32.0 in /usr/local/lib/python3.7/dist-packages (from tensorflow<2.8,>=2.7.0->tensorflow_text) (0.37.0)\n",
            "Requirement already satisfied: libclang>=9.0.1 in /usr/local/lib/python3.7/dist-packages (from tensorflow<2.8,>=2.7.0->tensorflow_text) (12.0.0)\n",
            "Requirement already satisfied: absl-py>=0.4.0 in /usr/local/lib/python3.7/dist-packages (from tensorflow<2.8,>=2.7.0->tensorflow_text) (0.12.0)\n",
            "Requirement already satisfied: cached-property in /usr/local/lib/python3.7/dist-packages (from h5py>=2.9.0->tensorflow<2.8,>=2.7.0->tensorflow_text) (1.5.2)\n",
            "Requirement already satisfied: setuptools>=41.0.0 in /usr/local/lib/python3.7/dist-packages (from tensorboard~=2.6->tensorflow<2.8,>=2.7.0->tensorflow_text) (57.4.0)\n",
            "Requirement already satisfied: markdown>=2.6.8 in /usr/local/lib/python3.7/dist-packages (from tensorboard~=2.6->tensorflow<2.8,>=2.7.0->tensorflow_text) (3.3.6)\n",
            "Requirement already satisfied: google-auth-oauthlib<0.5,>=0.4.1 in /usr/local/lib/python3.7/dist-packages (from tensorboard~=2.6->tensorflow<2.8,>=2.7.0->tensorflow_text) (0.4.6)\n",
            "Requirement already satisfied: tensorboard-data-server<0.7.0,>=0.6.0 in /usr/local/lib/python3.7/dist-packages (from tensorboard~=2.6->tensorflow<2.8,>=2.7.0->tensorflow_text) (0.6.1)\n",
            "Requirement already satisfied: werkzeug>=0.11.15 in /usr/local/lib/python3.7/dist-packages (from tensorboard~=2.6->tensorflow<2.8,>=2.7.0->tensorflow_text) (1.0.1)\n",
            "Requirement already satisfied: tensorboard-plugin-wit>=1.6.0 in /usr/local/lib/python3.7/dist-packages (from tensorboard~=2.6->tensorflow<2.8,>=2.7.0->tensorflow_text) (1.8.0)\n",
            "Requirement already satisfied: requests<3,>=2.21.0 in /usr/local/lib/python3.7/dist-packages (from tensorboard~=2.6->tensorflow<2.8,>=2.7.0->tensorflow_text) (2.23.0)\n",
            "Requirement already satisfied: google-auth<3,>=1.6.3 in /usr/local/lib/python3.7/dist-packages (from tensorboard~=2.6->tensorflow<2.8,>=2.7.0->tensorflow_text) (1.35.0)\n",
            "Requirement already satisfied: cachetools<5.0,>=2.0.0 in /usr/local/lib/python3.7/dist-packages (from google-auth<3,>=1.6.3->tensorboard~=2.6->tensorflow<2.8,>=2.7.0->tensorflow_text) (4.2.4)\n",
            "Requirement already satisfied: pyasn1-modules>=0.2.1 in /usr/local/lib/python3.7/dist-packages (from google-auth<3,>=1.6.3->tensorboard~=2.6->tensorflow<2.8,>=2.7.0->tensorflow_text) (0.2.8)\n",
            "Requirement already satisfied: rsa<5,>=3.1.4 in /usr/local/lib/python3.7/dist-packages (from google-auth<3,>=1.6.3->tensorboard~=2.6->tensorflow<2.8,>=2.7.0->tensorflow_text) (4.7.2)\n",
            "Requirement already satisfied: requests-oauthlib>=0.7.0 in /usr/local/lib/python3.7/dist-packages (from google-auth-oauthlib<0.5,>=0.4.1->tensorboard~=2.6->tensorflow<2.8,>=2.7.0->tensorflow_text) (1.3.0)\n",
            "Requirement already satisfied: importlib-metadata>=4.4 in /usr/local/lib/python3.7/dist-packages (from markdown>=2.6.8->tensorboard~=2.6->tensorflow<2.8,>=2.7.0->tensorflow_text) (4.8.2)\n",
            "Requirement already satisfied: zipp>=0.5 in /usr/local/lib/python3.7/dist-packages (from importlib-metadata>=4.4->markdown>=2.6.8->tensorboard~=2.6->tensorflow<2.8,>=2.7.0->tensorflow_text) (3.6.0)\n",
            "Requirement already satisfied: pyasn1<0.5.0,>=0.4.6 in /usr/local/lib/python3.7/dist-packages (from pyasn1-modules>=0.2.1->google-auth<3,>=1.6.3->tensorboard~=2.6->tensorflow<2.8,>=2.7.0->tensorflow_text) (0.4.8)\n",
            "Requirement already satisfied: chardet<4,>=3.0.2 in /usr/local/lib/python3.7/dist-packages (from requests<3,>=2.21.0->tensorboard~=2.6->tensorflow<2.8,>=2.7.0->tensorflow_text) (3.0.4)\n",
            "Requirement already satisfied: certifi>=2017.4.17 in /usr/local/lib/python3.7/dist-packages (from requests<3,>=2.21.0->tensorboard~=2.6->tensorflow<2.8,>=2.7.0->tensorflow_text) (2021.10.8)\n",
            "Requirement already satisfied: urllib3!=1.25.0,!=1.25.1,<1.26,>=1.21.1 in /usr/local/lib/python3.7/dist-packages (from requests<3,>=2.21.0->tensorboard~=2.6->tensorflow<2.8,>=2.7.0->tensorflow_text) (1.24.3)\n",
            "Requirement already satisfied: idna<3,>=2.5 in /usr/local/lib/python3.7/dist-packages (from requests<3,>=2.21.0->tensorboard~=2.6->tensorflow<2.8,>=2.7.0->tensorflow_text) (2.10)\n",
            "Requirement already satisfied: oauthlib>=3.0.0 in /usr/local/lib/python3.7/dist-packages (from requests-oauthlib>=0.7.0->google-auth-oauthlib<0.5,>=0.4.1->tensorboard~=2.6->tensorflow<2.8,>=2.7.0->tensorflow_text) (3.1.1)\n"
          ]
        }
      ]
    },
    {
      "cell_type": "code",
      "metadata": {
        "id": "vOzMA_lf_nRb"
      },
      "source": [
        "import tensorflow_hub as hub\n",
        "import tensorflow_text as text"
      ],
      "execution_count": 104,
      "outputs": []
    },
    {
      "cell_type": "code",
      "metadata": {
        "id": "xSS1qDRj_tSl"
      },
      "source": [
        "preprocessor_url='https://tfhub.dev/tensorflow/bert_en_uncased_preprocess/3'\n",
        "encoder_url='https://tfhub.dev/tensorflow/bert_en_uncased_L-12_H-768_A-12/4'\n",
        "\n",
        "bert_preprocess_model=hub.KerasLayer(preprocessor_url)\n",
        "bert_model=hub.KerasLayer(encoder_url)"
      ],
      "execution_count": 105,
      "outputs": []
    },
    {
      "cell_type": "code",
      "metadata": {
        "colab": {
          "base_uri": "https://localhost:8080/"
        },
        "id": "0TBbvbyB_yQK",
        "outputId": "9666da40-fd3d-47fd-d1f9-1bf6beb9fb28"
      },
      "source": [
        "#function for returning embedding of sentences\n",
        "def get_sentence_embedding(sentence):\n",
        "    text_preprocessed=bert_preprocess_model(sentence)\n",
        "    \n",
        "    return bert_model(text_preprocessed)['pooled_output']\n",
        "\n",
        "get_sentence_embedding(['hello, i love programming','that was disgusting'])"
      ],
      "execution_count": 106,
      "outputs": [
        {
          "output_type": "execute_result",
          "data": {
            "text/plain": [
              "<tf.Tensor: shape=(2, 768), dtype=float32, numpy=\n",
              "array([[-0.8461179 , -0.33594802, -0.6209943 , ..., -0.26822942,\n",
              "        -0.6329671 ,  0.88578624],\n",
              "       [-0.7755573 , -0.12828729,  0.41623574, ...,  0.24994873,\n",
              "        -0.49263793,  0.84424764]], dtype=float32)>"
            ]
          },
          "metadata": {},
          "execution_count": 106
        }
      ]
    },
    {
      "cell_type": "code",
      "metadata": {
        "colab": {
          "base_uri": "https://localhost:8080/"
        },
        "id": "1VoWlY3qBxmV",
        "outputId": "daa1c1f6-a212-4c3b-c33d-8a90e5405f5f"
      },
      "source": [
        "a=get_sentence_embedding([\n",
        "                          'apple',\n",
        "                          'orange',\n",
        "                          'elon musk',\n",
        "                          'bill gates'\n",
        "])\n",
        "\n",
        "from sklearn.metrics.pairwise import cosine_similarity\n",
        "\n",
        "print(cosine_similarity([a[0]],[a[1]])) #apple and orange\n",
        "print(cosine_similarity([a[0]],[a[2]])) #apple and  elon musk"
      ],
      "execution_count": 107,
      "outputs": [
        {
          "output_type": "stream",
          "name": "stdout",
          "text": [
            "[[0.99018085]]\n",
            "[[0.9624156]]\n"
          ]
        }
      ]
    },
    {
      "cell_type": "code",
      "metadata": {
        "id": "2mFUrl5nvbOr"
      },
      "source": [
        "#train/test split\n",
        "from sklearn.model_selection import train_test_split\n",
        "\n",
        "X_toxic=data_toxic_balanced.iloc[:,1:2]\n",
        "Y_toxic=data_toxic_balanced.iloc[:,2:]\n",
        "\n",
        "X_sevtoxic=data_sevtoxic_balanced.iloc[:,1:2]\n",
        "Y_sevtoxic=data_sevtoxic_balanced.iloc[:,2:]\n",
        "\n",
        "X_obscene=data_obscene_balanced.iloc[:,1:2]\n",
        "Y_obscene=data_obscene_balanced.iloc[:,2:]\n",
        "\n",
        "X_threat=data_threat_balanced.iloc[:,1:2]\n",
        "Y_threat=data_threat_balanced.iloc[:,2:]\n",
        "\n",
        "X_insult=data_insult_balanced.iloc[:,1:2]\n",
        "Y_insult=data_insult_balanced.iloc[:,2:]\n",
        "\n",
        "X_idhate=data_idhate_balanced.iloc[:,1:2]\n",
        "Y_idhate=data_idhate_balanced.iloc[:,2:]\n",
        "\n",
        "\n",
        "X_train_toxic, X_test_toxic, y_train_toxic, y_test_toxic = train_test_split(X_toxic, Y_toxic, test_size=0.33, random_state=42)\n",
        "X_train_sevtoxic, X_test_sevtoxic, y_train_sevtoxic, y_test_sevtoxic = train_test_split(X_sevtoxic, Y_sevtoxic, test_size=0.2, random_state=42)\n",
        "X_train_obscene, X_test_obscene, y_train_obscene, y_test_obscene = train_test_split(X_obscene, Y_obscene, test_size=0.33, random_state=42)\n",
        "X_train_threat, X_test_threat, y_train_threat, y_test_threat = train_test_split(X_threat, Y_threat, test_size=0.2, random_state=42)\n",
        "X_train_insult, X_test_insult, y_train_insult, y_test_insult = train_test_split(X_insult, Y_insult, test_size=0.33, random_state=42)\n",
        "X_train_idhate, X_test_idhate, y_train_idhate, y_test_idhate = train_test_split(X_idhate, Y_idhate, test_size=0.2, random_state=42)"
      ],
      "execution_count": 108,
      "outputs": []
    },
    {
      "cell_type": "code",
      "metadata": {
        "id": "TSVm4ESMEnz4"
      },
      "source": [
        "#model (bert layers)\n",
        "\n",
        "#input layer\n",
        "text_input=tf.keras.layers.Input(shape=(),dtype=tf.string,name='comments')\n",
        "#pass the input layer to the bert preprocess\n",
        "preprocessed_text=bert_preprocess_model(text_input)\n",
        "\n",
        "#pass the preprocessed input text to the encoder\n",
        "outputs=bert_model(preprocessed_text)\n",
        "\n",
        "#(neural network layers)\n",
        "l=tf.keras.layers.Dropout(0.1, name='dropout')(outputs['pooled_output'])\n",
        "l=outputs=tf.keras.layers.Dense(1,'sigmoid',name='dense')(l)\n",
        "\n",
        "\n",
        "#build the models for varous categories\n",
        "model_toxic=tf.keras.Model(inputs=[text_input],outputs=[l])\n",
        "model_sevtoxic=tf.keras.Model(inputs=[text_input],outputs=[l])\n",
        "model_obscene=tf.keras.Model(inputs=[text_input],outputs=[l])\n",
        "model_threat=tf.keras.Model(inputs=[text_input],outputs=[l])\n",
        "model_insult=tf.keras.Model(inputs=[text_input],outputs=[l])\n",
        "model_idhate=tf.keras.Model(inputs=[text_input],outputs=[l])"
      ],
      "execution_count": 109,
      "outputs": []
    },
    {
      "cell_type": "code",
      "metadata": {
        "colab": {
          "base_uri": "https://localhost:8080/"
        },
        "id": "m0U7D7fltZOa",
        "outputId": "dae91661-7a76-4a4a-a202-df0e5aafc06e"
      },
      "source": [
        "model_toxic.summary()"
      ],
      "execution_count": 110,
      "outputs": [
        {
          "output_type": "stream",
          "name": "stdout",
          "text": [
            "Model: \"model_6\"\n",
            "__________________________________________________________________________________________________\n",
            " Layer (type)                   Output Shape         Param #     Connected to                     \n",
            "==================================================================================================\n",
            " comments (InputLayer)          [(None,)]            0           []                               \n",
            "                                                                                                  \n",
            " keras_layer_2 (KerasLayer)     {'input_mask': (Non  0           ['comments[0][0]']               \n",
            "                                e, 128),                                                          \n",
            "                                 'input_type_ids':                                                \n",
            "                                (None, 128),                                                      \n",
            "                                 'input_word_ids':                                                \n",
            "                                (None, 128)}                                                      \n",
            "                                                                                                  \n",
            " keras_layer_3 (KerasLayer)     {'default': (None,   109482241   ['keras_layer_2[0][0]',          \n",
            "                                768),                             'keras_layer_2[0][1]',          \n",
            "                                 'sequence_output':               'keras_layer_2[0][2]']          \n",
            "                                 (None, 128, 768),                                                \n",
            "                                 'pooled_output': (                                               \n",
            "                                None, 768),                                                       \n",
            "                                 'encoder_outputs':                                               \n",
            "                                 [(None, 128, 768),                                               \n",
            "                                 (None, 128, 768),                                                \n",
            "                                 (None, 128, 768),                                                \n",
            "                                 (None, 128, 768),                                                \n",
            "                                 (None, 128, 768),                                                \n",
            "                                 (None, 128, 768),                                                \n",
            "                                 (None, 128, 768),                                                \n",
            "                                 (None, 128, 768),                                                \n",
            "                                 (None, 128, 768),                                                \n",
            "                                 (None, 128, 768),                                                \n",
            "                                 (None, 128, 768),                                                \n",
            "                                 (None, 128, 768)]}                                               \n",
            "                                                                                                  \n",
            " dropout (Dropout)              (None, 768)          0           ['keras_layer_3[0][13]']         \n",
            "                                                                                                  \n",
            " dense (Dense)                  (None, 1)            769         ['dropout[0][0]']                \n",
            "                                                                                                  \n",
            "==================================================================================================\n",
            "Total params: 109,483,010\n",
            "Trainable params: 769\n",
            "Non-trainable params: 109,482,241\n",
            "__________________________________________________________________________________________________\n"
          ]
        }
      ]
    },
    {
      "cell_type": "code",
      "metadata": {
        "id": "MQk9flPhtvc3"
      },
      "source": [
        "METRICS=[\n",
        "         tf.keras.metrics.AUC(name='auc'),\n",
        "         tf.keras.metrics.Precision(),\n",
        "         tf.keras.metrics.Recall()\n",
        "]\n",
        "\n",
        "model_toxic.compile(optimizer='adam',\n",
        "              loss='binary_crossentropy',\n",
        "              metrics=METRICS)"
      ],
      "execution_count": 111,
      "outputs": []
    },
    {
      "cell_type": "code",
      "metadata": {
        "id": "dEhiR3Ljxgls"
      },
      "source": [
        "model_sevtoxic.compile(optimizer='adam',\n",
        "              loss='binary_crossentropy',\n",
        "              metrics=METRICS)"
      ],
      "execution_count": 112,
      "outputs": []
    },
    {
      "cell_type": "code",
      "metadata": {
        "id": "crBZseahREw4"
      },
      "source": [
        "model_obscene.compile(optimizer='adam',\n",
        "              loss='binary_crossentropy',\n",
        "              metrics=METRICS)"
      ],
      "execution_count": 113,
      "outputs": []
    },
    {
      "cell_type": "code",
      "metadata": {
        "id": "o_8sOYIERS-g"
      },
      "source": [
        "model_threat.compile(optimizer='adam',\n",
        "              loss='binary_crossentropy',\n",
        "              metrics=METRICS)"
      ],
      "execution_count": 114,
      "outputs": []
    },
    {
      "cell_type": "code",
      "metadata": {
        "id": "hmmslYyBRVVr"
      },
      "source": [
        "model_insult.compile(optimizer='adam',\n",
        "              loss='binary_crossentropy',\n",
        "              metrics=METRICS)"
      ],
      "execution_count": 115,
      "outputs": []
    },
    {
      "cell_type": "code",
      "metadata": {
        "id": "0X8fw6quRbtI"
      },
      "source": [
        "model_idhate.compile(optimizer='adam',\n",
        "              loss='binary_crossentropy',\n",
        "              metrics=METRICS)"
      ],
      "execution_count": 116,
      "outputs": []
    },
    {
      "cell_type": "markdown",
      "metadata": {
        "id": "eZIzEe2tW6bi"
      },
      "source": [
        "##**For Toxic**"
      ]
    },
    {
      "cell_type": "code",
      "metadata": {
        "colab": {
          "base_uri": "https://localhost:8080/"
        },
        "id": "I3sXMbpjRRpW",
        "outputId": "ca2157bf-d5bb-462d-ff92-b6be6937f054"
      },
      "source": [
        "model_toxic.fit(X_train_toxic,y_train_toxic,epochs=15)"
      ],
      "execution_count": 117,
      "outputs": [
        {
          "output_type": "stream",
          "name": "stdout",
          "text": [
            "Epoch 1/15\n",
            "210/210 [==============================] - 145s 640ms/step - loss: 0.6078 - auc: 0.7328 - precision_1: 0.6668 - recall_1: 0.6737\n",
            "Epoch 2/15\n",
            "210/210 [==============================] - 128s 610ms/step - loss: 0.5033 - auc: 0.8557 - precision_1: 0.7737 - recall_1: 0.7797\n",
            "Epoch 3/15\n",
            "210/210 [==============================] - 136s 647ms/step - loss: 0.4575 - auc: 0.8846 - precision_1: 0.8037 - recall_1: 0.8049\n",
            "Epoch 4/15\n",
            "210/210 [==============================] - 137s 650ms/step - loss: 0.4252 - auc: 0.9003 - precision_1: 0.8166 - recall_1: 0.8203\n",
            "Epoch 5/15\n",
            "210/210 [==============================] - 137s 650ms/step - loss: 0.4057 - auc: 0.9083 - precision_1: 0.8305 - recall_1: 0.8256\n",
            "Epoch 6/15\n",
            "210/210 [==============================] - 129s 616ms/step - loss: 0.3952 - auc: 0.9105 - precision_1: 0.8299 - recall_1: 0.8365\n",
            "Epoch 7/15\n",
            "210/210 [==============================] - 137s 651ms/step - loss: 0.3839 - auc: 0.9141 - precision_1: 0.8356 - recall_1: 0.8365\n",
            "Epoch 8/15\n",
            "210/210 [==============================] - 137s 652ms/step - loss: 0.3754 - auc: 0.9180 - precision_1: 0.8383 - recall_1: 0.8354\n",
            "Epoch 9/15\n",
            "210/210 [==============================] - 135s 642ms/step - loss: 0.3697 - auc: 0.9194 - precision_1: 0.8370 - recall_1: 0.8422\n",
            "Epoch 10/15\n",
            "210/210 [==============================] - 129s 614ms/step - loss: 0.3614 - auc: 0.9229 - precision_1: 0.8456 - recall_1: 0.8434\n",
            "Epoch 11/15\n",
            "210/210 [==============================] - 137s 652ms/step - loss: 0.3592 - auc: 0.9232 - precision_1: 0.8396 - recall_1: 0.8419\n",
            "Epoch 12/15\n",
            "210/210 [==============================] - 137s 652ms/step - loss: 0.3566 - auc: 0.9240 - precision_1: 0.8456 - recall_1: 0.8448\n",
            "Epoch 13/15\n",
            "210/210 [==============================] - 137s 651ms/step - loss: 0.3532 - auc: 0.9253 - precision_1: 0.8455 - recall_1: 0.8493\n",
            "Epoch 14/15\n",
            "210/210 [==============================] - 129s 617ms/step - loss: 0.3485 - auc: 0.9274 - precision_1: 0.8504 - recall_1: 0.8502\n",
            "Epoch 15/15\n",
            "210/210 [==============================] - 136s 647ms/step - loss: 0.3496 - auc: 0.9262 - precision_1: 0.8491 - recall_1: 0.8466\n"
          ]
        },
        {
          "output_type": "execute_result",
          "data": {
            "text/plain": [
              "<keras.callbacks.History at 0x7fd26fa1c750>"
            ]
          },
          "metadata": {},
          "execution_count": 117
        }
      ]
    },
    {
      "cell_type": "code",
      "metadata": {
        "id": "1UJZ1uLAWnwk",
        "colab": {
          "base_uri": "https://localhost:8080/"
        },
        "outputId": "0ac98c41-6943-4bb5-fcbf-4bcdf00f3d6c"
      },
      "source": [
        "model_toxic.evaluate(X_test_toxic,y_test_toxic)"
      ],
      "execution_count": 118,
      "outputs": [
        {
          "output_type": "stream",
          "name": "stdout",
          "text": [
            "104/104 [==============================] - 67s 630ms/step - loss: 0.3334 - auc: 0.9356 - precision_1: 0.8536 - recall_1: 0.8657\n"
          ]
        },
        {
          "output_type": "execute_result",
          "data": {
            "text/plain": [
              "[0.333426833152771, 0.9355595707893372, 0.8535844683647156, 0.8656808137893677]"
            ]
          },
          "metadata": {},
          "execution_count": 118
        }
      ]
    },
    {
      "cell_type": "code",
      "metadata": {
        "id": "bmzAok_CXB6n"
      },
      "source": [
        "y_predicted_toxic=model_toxic.predict(X_test_toxic)"
      ],
      "execution_count": 119,
      "outputs": []
    },
    {
      "cell_type": "code",
      "metadata": {
        "id": "V_btH1DqXK3I",
        "colab": {
          "base_uri": "https://localhost:8080/"
        },
        "outputId": "009a1517-be8f-4dcd-e99b-26ec0a39b9d2"
      },
      "source": [
        "from sklearn.metrics import confusion_matrix\n",
        "y_predicted_toxic=y_predicted_toxic.flatten()\n",
        "y_predicted_toxic=np.where(y_predicted_toxic>0.5,1,0)\n",
        "y_predicted_toxic"
      ],
      "execution_count": 120,
      "outputs": [
        {
          "output_type": "execute_result",
          "data": {
            "text/plain": [
              "array([1, 1, 1, ..., 0, 0, 0])"
            ]
          },
          "metadata": {},
          "execution_count": 120
        }
      ]
    },
    {
      "cell_type": "code",
      "metadata": {
        "id": "XL5RLzV4XTW8",
        "colab": {
          "base_uri": "https://localhost:8080/"
        },
        "outputId": "8777b3d9-efe9-46d9-fb94-252c3407d92f"
      },
      "source": [
        "cm=confusion_matrix(y_test_toxic,y_predicted_toxic)\n",
        "cm"
      ],
      "execution_count": 121,
      "outputs": [
        {
          "output_type": "execute_result",
          "data": {
            "text/plain": [
              "array([[1436,  241],\n",
              "       [ 218, 1405]])"
            ]
          },
          "metadata": {},
          "execution_count": 121
        }
      ]
    },
    {
      "cell_type": "markdown",
      "metadata": {
        "id": "CnSZmgdoYUkn"
      },
      "source": [
        "##**For Severe toxic**"
      ]
    },
    {
      "cell_type": "code",
      "metadata": {
        "colab": {
          "base_uri": "https://localhost:8080/"
        },
        "id": "du5VksoqSNPE",
        "outputId": "1bac2cb2-b90a-496b-a6a5-3f5a532900c8"
      },
      "source": [
        "model_sevtoxic.fit(X_train_sevtoxic,y_train_sevtoxic,epochs=10)"
      ],
      "execution_count": 122,
      "outputs": [
        {
          "output_type": "stream",
          "name": "stdout",
          "text": [
            "Epoch 1/10\n",
            "90/90 [==============================] - 61s 647ms/step - loss: 0.2393 - auc: 0.9519 - precision_1: 0.8721 - recall_1: 0.8888\n",
            "Epoch 2/10\n",
            "90/90 [==============================] - 58s 648ms/step - loss: 0.2233 - auc: 0.9702 - precision_1: 0.8935 - recall_1: 0.9163\n",
            "Epoch 3/10\n",
            "90/90 [==============================] - 58s 646ms/step - loss: 0.2231 - auc: 0.9697 - precision_1: 0.9002 - recall_1: 0.9086\n",
            "Epoch 4/10\n",
            "90/90 [==============================] - 55s 616ms/step - loss: 0.2126 - auc: 0.9729 - precision_1: 0.9034 - recall_1: 0.9125\n",
            "Epoch 5/10\n",
            "90/90 [==============================] - 58s 647ms/step - loss: 0.2151 - auc: 0.9719 - precision_1: 0.8975 - recall_1: 0.9225\n",
            "Epoch 6/10\n",
            "90/90 [==============================] - 58s 646ms/step - loss: 0.2177 - auc: 0.9706 - precision_1: 0.9009 - recall_1: 0.9156\n",
            "Epoch 7/10\n",
            "90/90 [==============================] - 58s 646ms/step - loss: 0.2111 - auc: 0.9731 - precision_1: 0.9001 - recall_1: 0.9140\n",
            "Epoch 8/10\n",
            "90/90 [==============================] - 55s 614ms/step - loss: 0.2129 - auc: 0.9718 - precision_1: 0.9021 - recall_1: 0.9210\n",
            "Epoch 9/10\n",
            "90/90 [==============================] - 58s 647ms/step - loss: 0.2113 - auc: 0.9724 - precision_1: 0.8983 - recall_1: 0.9163\n",
            "Epoch 10/10\n",
            "90/90 [==============================] - 58s 646ms/step - loss: 0.2106 - auc: 0.9726 - precision_1: 0.9037 - recall_1: 0.9163\n"
          ]
        },
        {
          "output_type": "execute_result",
          "data": {
            "text/plain": [
              "<keras.callbacks.History at 0x7fd26d3f1810>"
            ]
          },
          "metadata": {},
          "execution_count": 122
        }
      ]
    },
    {
      "cell_type": "code",
      "metadata": {
        "id": "zOQ9NMevY3aT",
        "colab": {
          "base_uri": "https://localhost:8080/"
        },
        "outputId": "a350522a-36a4-453b-c74b-2f3887697c5f"
      },
      "source": [
        "model_sevtoxic.evaluate(X_test_sevtoxic,y_test_sevtoxic)"
      ],
      "execution_count": 123,
      "outputs": [
        {
          "output_type": "stream",
          "name": "stdout",
          "text": [
            "23/23 [==============================] - 16s 621ms/step - loss: 0.2366 - auc: 0.9731 - precision_1: 0.8347 - recall_1: 0.9803\n"
          ]
        },
        {
          "output_type": "execute_result",
          "data": {
            "text/plain": [
              "[0.23658841848373413,\n",
              " 0.9731373190879822,\n",
              " 0.8347339034080505,\n",
              " 0.9802631735801697]"
            ]
          },
          "metadata": {},
          "execution_count": 123
        }
      ]
    },
    {
      "cell_type": "code",
      "metadata": {
        "id": "p_ntMk3LA6n_"
      },
      "source": [
        "y_predicted_sevtoxic=model_sevtoxic.predict(X_test_sevtoxic)"
      ],
      "execution_count": 124,
      "outputs": []
    },
    {
      "cell_type": "code",
      "metadata": {
        "id": "ZWGHFJjSY9Qx",
        "colab": {
          "base_uri": "https://localhost:8080/"
        },
        "outputId": "c89ce82d-f0b7-49a3-d379-7bfdf4964386"
      },
      "source": [
        "y_predicted_sevtoxic=y_predicted_sevtoxic.flatten()\n",
        "y_predicted_sevtoxic=np.where(y_predicted_sevtoxic>0.5,1,0)\n",
        "y_predicted_sevtoxic"
      ],
      "execution_count": 125,
      "outputs": [
        {
          "output_type": "execute_result",
          "data": {
            "text/plain": [
              "array([1, 1, 1, 0, 0, 0, 0, 0, 0, 0, 1, 0, 1, 0, 0, 1, 0, 0, 1, 1, 1, 0,\n",
              "       0, 1, 0, 0, 1, 1, 0, 1, 1, 1, 1, 0, 1, 0, 1, 1, 1, 0, 0, 0, 0, 1,\n",
              "       0, 1, 1, 0, 0, 1, 0, 0, 0, 0, 1, 1, 1, 0, 1, 0, 1, 1, 0, 1, 1, 1,\n",
              "       0, 0, 0, 0, 1, 1, 1, 1, 1, 0, 1, 0, 0, 1, 0, 0, 1, 0, 1, 1, 1, 0,\n",
              "       1, 1, 1, 1, 0, 0, 1, 1, 1, 1, 1, 0, 0, 1, 0, 1, 0, 1, 1, 1, 1, 0,\n",
              "       0, 1, 0, 0, 0, 1, 0, 0, 0, 1, 1, 0, 0, 0, 1, 1, 1, 0, 0, 0, 1, 1,\n",
              "       1, 0, 0, 1, 1, 1, 0, 0, 0, 1, 0, 1, 0, 1, 0, 0, 0, 1, 1, 0, 0, 1,\n",
              "       0, 1, 1, 1, 1, 0, 0, 1, 0, 0, 1, 1, 1, 0, 1, 1, 0, 0, 1, 1, 0, 1,\n",
              "       1, 1, 0, 0, 0, 0, 1, 1, 1, 0, 0, 1, 0, 0, 0, 1, 1, 0, 1, 0, 0, 0,\n",
              "       0, 0, 1, 1, 1, 0, 1, 1, 0, 1, 0, 0, 1, 1, 0, 0, 0, 1, 0, 0, 0, 0,\n",
              "       0, 0, 1, 0, 0, 0, 1, 0, 0, 1, 1, 0, 0, 0, 0, 1, 1, 0, 0, 0, 1, 1,\n",
              "       0, 0, 0, 1, 1, 1, 1, 1, 0, 1, 0, 1, 0, 0, 1, 1, 0, 0, 1, 0, 0, 0,\n",
              "       1, 1, 1, 0, 0, 1, 0, 0, 0, 1, 1, 1, 0, 0, 0, 0, 1, 1, 1, 1, 0, 1,\n",
              "       0, 1, 1, 0, 1, 0, 0, 1, 0, 1, 0, 1, 0, 1, 0, 0, 1, 0, 0, 1, 0, 1,\n",
              "       0, 0, 1, 0, 1, 1, 1, 0, 1, 0, 0, 0, 1, 0, 1, 0, 1, 0, 0, 0, 1, 1,\n",
              "       1, 0, 1, 0, 0, 0, 1, 1, 0, 0, 0, 0, 0, 0, 1, 1, 0, 0, 1, 0, 1, 1,\n",
              "       1, 1, 1, 1, 1, 0, 0, 1, 0, 1, 0, 0, 0, 1, 0, 0, 0, 0, 1, 1, 0, 1,\n",
              "       0, 0, 0, 0, 0, 0, 1, 0, 0, 1, 0, 0, 0, 1, 1, 1, 1, 1, 0, 1, 1, 1,\n",
              "       1, 1, 1, 0, 1, 1, 0, 0, 1, 0, 0, 0, 0, 1, 1, 0, 1, 1, 0, 0, 0, 1,\n",
              "       0, 0, 0, 0, 0, 0, 0, 0, 1, 1, 1, 0, 0, 1, 1, 1, 1, 1, 1, 0, 1, 1,\n",
              "       0, 0, 0, 0, 1, 1, 1, 0, 0, 1, 0, 0, 1, 1, 1, 0, 1, 1, 0, 1, 0, 1,\n",
              "       0, 1, 1, 0, 0, 1, 0, 0, 1, 1, 0, 0, 1, 1, 1, 1, 1, 0, 1, 1, 1, 1,\n",
              "       1, 0, 1, 0, 1, 1, 0, 0, 0, 0, 0, 1, 1, 1, 0, 0, 1, 0, 1, 0, 1, 0,\n",
              "       1, 1, 1, 0, 1, 0, 0, 0, 0, 1, 1, 1, 1, 0, 0, 1, 1, 0, 1, 1, 0, 0,\n",
              "       0, 0, 1, 0, 1, 1, 0, 1, 1, 0, 0, 0, 1, 1, 0, 0, 0, 1, 1, 0, 1, 1,\n",
              "       1, 1, 1, 1, 1, 1, 1, 0, 0, 1, 0, 0, 0, 0, 1, 1, 1, 0, 1, 1, 1, 0,\n",
              "       0, 0, 1, 1, 1, 1, 0, 0, 1, 1, 0, 1, 0, 0, 1, 0, 0, 1, 1, 0, 1, 1,\n",
              "       1, 0, 1, 0, 1, 0, 1, 0, 1, 0, 1, 1, 0, 1, 0, 1, 0, 1, 0, 0, 1, 1,\n",
              "       0, 0, 1, 1, 0, 1, 0, 1, 1, 1, 0, 1, 0, 1, 0, 0, 1, 1, 0, 0, 0, 1,\n",
              "       1, 0, 1, 1, 0, 1, 1, 1, 0, 0, 0, 1, 0, 1, 1, 1, 0, 0, 1, 0, 0, 0,\n",
              "       0, 0, 0, 0, 1, 1, 0, 1, 0, 0, 0, 1, 0, 0, 0, 0, 0, 1, 1, 1, 1, 1,\n",
              "       1, 0, 1, 1, 1, 0, 1, 0, 1, 0, 1, 0, 0, 1, 0, 0, 1, 0, 0, 1, 1, 1,\n",
              "       1, 0, 0, 0, 1, 0, 1, 1, 1, 1, 0, 0, 0, 1, 0])"
            ]
          },
          "metadata": {},
          "execution_count": 125
        }
      ]
    },
    {
      "cell_type": "code",
      "metadata": {
        "colab": {
          "base_uri": "https://localhost:8080/"
        },
        "id": "w4Z4BrGz91mX",
        "outputId": "70b7df32-bb0b-4187-d84e-fb5cdba01ad6"
      },
      "source": [
        "cm=confusion_matrix(y_test_sevtoxic,y_predicted_sevtoxic)\n",
        "cm"
      ],
      "execution_count": 126,
      "outputs": [
        {
          "output_type": "execute_result",
          "data": {
            "text/plain": [
              "array([[356,  59],\n",
              "       [  6, 298]])"
            ]
          },
          "metadata": {},
          "execution_count": 126
        }
      ]
    },
    {
      "cell_type": "markdown",
      "metadata": {
        "id": "jmfbPDeH93HC"
      },
      "source": [
        "##**For Obscene**"
      ]
    },
    {
      "cell_type": "code",
      "metadata": {
        "id": "CJSOggXFSOEe",
        "colab": {
          "base_uri": "https://localhost:8080/"
        },
        "outputId": "e3cff79c-77e1-4709-a03a-76873572b55c"
      },
      "source": [
        "model_obscene.fit(X_train_obscene,y_train_obscene,epochs=10)"
      ],
      "execution_count": 127,
      "outputs": [
        {
          "output_type": "stream",
          "name": "stdout",
          "text": [
            "Epoch 1/10\n",
            "210/210 [==============================] - 137s 641ms/step - loss: 0.3261 - auc: 0.9386 - precision_1: 0.8613 - recall_1: 0.8739\n",
            "Epoch 2/10\n",
            "210/210 [==============================] - 135s 643ms/step - loss: 0.3208 - auc: 0.9371 - precision_1: 0.8679 - recall_1: 0.8676\n",
            "Epoch 3/10\n",
            "210/210 [==============================] - 136s 646ms/step - loss: 0.3112 - auc: 0.9409 - precision_1: 0.8722 - recall_1: 0.8653\n",
            "Epoch 4/10\n",
            "210/210 [==============================] - 129s 613ms/step - loss: 0.3182 - auc: 0.9382 - precision_1: 0.8683 - recall_1: 0.8667\n",
            "Epoch 5/10\n",
            "210/210 [==============================] - 134s 640ms/step - loss: 0.3141 - auc: 0.9398 - precision_1: 0.8650 - recall_1: 0.8653\n",
            "Epoch 6/10\n",
            "210/210 [==============================] - 135s 642ms/step - loss: 0.3128 - auc: 0.9406 - precision_1: 0.8686 - recall_1: 0.8712\n",
            "Epoch 7/10\n",
            "210/210 [==============================] - 134s 639ms/step - loss: 0.3086 - auc: 0.9420 - precision_1: 0.8739 - recall_1: 0.8721\n",
            "Epoch 8/10\n",
            "210/210 [==============================] - 128s 610ms/step - loss: 0.3076 - auc: 0.9422 - precision_1: 0.8785 - recall_1: 0.8739\n",
            "Epoch 9/10\n",
            "210/210 [==============================] - 134s 639ms/step - loss: 0.3086 - auc: 0.9420 - precision_1: 0.8701 - recall_1: 0.8730\n",
            "Epoch 10/10\n",
            "210/210 [==============================] - 134s 640ms/step - loss: 0.3142 - auc: 0.9398 - precision_1: 0.8670 - recall_1: 0.8724\n"
          ]
        },
        {
          "output_type": "execute_result",
          "data": {
            "text/plain": [
              "<keras.callbacks.History at 0x7fd25f1b81d0>"
            ]
          },
          "metadata": {},
          "execution_count": 127
        }
      ]
    },
    {
      "cell_type": "code",
      "metadata": {
        "colab": {
          "base_uri": "https://localhost:8080/"
        },
        "id": "qwvpTkGU9_pd",
        "outputId": "7e0f4e63-6a0f-46c7-ba4a-573e58cace38"
      },
      "source": [
        "model_obscene.evaluate(X_test_obscene,y_test_obscene)"
      ],
      "execution_count": 128,
      "outputs": [
        {
          "output_type": "stream",
          "name": "stdout",
          "text": [
            "104/104 [==============================] - 67s 628ms/step - loss: 0.2843 - auc: 0.9522 - precision_1: 0.8692 - recall_1: 0.8885\n"
          ]
        },
        {
          "output_type": "execute_result",
          "data": {
            "text/plain": [
              "[0.28426146507263184,\n",
              " 0.952237606048584,\n",
              " 0.8691983222961426,\n",
              " 0.8884781002998352]"
            ]
          },
          "metadata": {},
          "execution_count": 128
        }
      ]
    },
    {
      "cell_type": "code",
      "metadata": {
        "id": "3EKuKSqg9_Nr"
      },
      "source": [
        "y_predicted_obscene=model_obscene.predict(X_test_obscene)"
      ],
      "execution_count": 129,
      "outputs": []
    },
    {
      "cell_type": "code",
      "metadata": {
        "colab": {
          "base_uri": "https://localhost:8080/"
        },
        "id": "p2G7FlSy9-oR",
        "outputId": "d77476c7-47f0-4cae-a97d-46bc0aacaf8f"
      },
      "source": [
        "y_predicted_obscene=y_predicted_obscene.flatten()\n",
        "y_predicted_obscene=np.where(y_predicted_obscene>0.5,1,0)\n",
        "y_predicted_obscene"
      ],
      "execution_count": 130,
      "outputs": [
        {
          "output_type": "execute_result",
          "data": {
            "text/plain": [
              "array([0, 1, 1, ..., 0, 0, 0])"
            ]
          },
          "metadata": {},
          "execution_count": 130
        }
      ]
    },
    {
      "cell_type": "code",
      "metadata": {
        "colab": {
          "base_uri": "https://localhost:8080/"
        },
        "id": "uTroX-_UCu5g",
        "outputId": "41fdcf58-440b-49c2-b093-2e80dd3613b8"
      },
      "source": [
        "cm=confusion_matrix(y_test_obscene,y_predicted_obscene)\n",
        "cm"
      ],
      "execution_count": 131,
      "outputs": [
        {
          "output_type": "execute_result",
          "data": {
            "text/plain": [
              "array([[1460,  217],\n",
              "       [ 181, 1442]])"
            ]
          },
          "metadata": {},
          "execution_count": 131
        }
      ]
    },
    {
      "cell_type": "markdown",
      "metadata": {
        "id": "FuQ5BSj--AdL"
      },
      "source": [
        "##**For Threat**"
      ]
    },
    {
      "cell_type": "code",
      "metadata": {
        "colab": {
          "base_uri": "https://localhost:8080/"
        },
        "id": "mcj1UyF5SO2s",
        "outputId": "3dc30810-07d7-40dc-8f74-ffd127f9a23e"
      },
      "source": [
        "model_threat.fit(X_train_threat,y_train_threat,epochs=3)"
      ],
      "execution_count": 132,
      "outputs": [
        {
          "output_type": "stream",
          "name": "stdout",
          "text": [
            "Epoch 1/3\n",
            "42/42 [==============================] - 30s 644ms/step - loss: 0.3020 - auc: 0.9484 - precision_1: 0.8571 - recall_1: 0.8660\n",
            "Epoch 2/3\n",
            "42/42 [==============================] - 27s 642ms/step - loss: 0.2843 - auc: 0.9411 - precision_1: 0.8184 - recall_1: 0.7844\n",
            "Epoch 3/3\n",
            "42/42 [==============================] - 26s 616ms/step - loss: 0.2942 - auc: 0.9385 - precision_1: 0.8055 - recall_1: 0.7636\n"
          ]
        },
        {
          "output_type": "execute_result",
          "data": {
            "text/plain": [
              "<keras.callbacks.History at 0x7fd25d2a77d0>"
            ]
          },
          "metadata": {},
          "execution_count": 132
        }
      ]
    },
    {
      "cell_type": "code",
      "metadata": {
        "colab": {
          "base_uri": "https://localhost:8080/"
        },
        "id": "pHa13Zyh-Fhc",
        "outputId": "4ed8b00f-b04b-4ff9-d9d9-a29be6a69c83"
      },
      "source": [
        "model_threat.evaluate(X_test_threat,y_test_threat)"
      ],
      "execution_count": 133,
      "outputs": [
        {
          "output_type": "stream",
          "name": "stdout",
          "text": [
            "11/11 [==============================] - 8s 608ms/step - loss: 0.2375 - auc: 0.9650 - precision_1: 0.8816 - recall_1: 0.7204\n"
          ]
        },
        {
          "output_type": "execute_result",
          "data": {
            "text/plain": [
              "[0.23745788633823395,\n",
              " 0.9650427103042603,\n",
              " 0.8815789222717285,\n",
              " 0.7204301357269287]"
            ]
          },
          "metadata": {},
          "execution_count": 133
        }
      ]
    },
    {
      "cell_type": "code",
      "metadata": {
        "id": "10TrpHjj-FHK"
      },
      "source": [
        "y_predicted_threat=model_threat.predict(X_test_threat)"
      ],
      "execution_count": 134,
      "outputs": []
    },
    {
      "cell_type": "code",
      "metadata": {
        "colab": {
          "base_uri": "https://localhost:8080/"
        },
        "id": "kTtbeMUh-FCx",
        "outputId": "667805ef-0fa3-44c1-cf33-7f479c64c06b"
      },
      "source": [
        "y_predicted_threat=y_predicted_threat.flatten()\n",
        "y_predicted_threat=np.where(y_predicted_threat>0.5,1,0)\n",
        "y_predicted_threat"
      ],
      "execution_count": 135,
      "outputs": [
        {
          "output_type": "execute_result",
          "data": {
            "text/plain": [
              "array([0, 0, 1, 0, 0, 1, 1, 1, 0, 0, 0, 0, 1, 0, 0, 0, 1, 0, 0, 0, 1, 0,\n",
              "       1, 0, 0, 0, 0, 0, 0, 0, 0, 1, 0, 0, 0, 0, 0, 1, 1, 0, 1, 0, 1, 0,\n",
              "       0, 0, 0, 0, 0, 1, 1, 1, 0, 1, 0, 0, 0, 1, 0, 0, 0, 1, 0, 0, 1, 0,\n",
              "       0, 0, 0, 0, 1, 0, 0, 0, 0, 0, 0, 1, 1, 1, 0, 1, 1, 0, 0, 0, 0, 0,\n",
              "       1, 1, 1, 0, 1, 0, 0, 0, 0, 0, 0, 0, 1, 0, 1, 0, 0, 0, 0, 0, 0, 0,\n",
              "       1, 0, 0, 0, 1, 1, 0, 0, 0, 1, 1, 0, 0, 1, 0, 0, 0, 0, 0, 0, 0, 0,\n",
              "       0, 0, 0, 0, 0, 0, 1, 0, 0, 1, 0, 0, 0, 0, 0, 0, 1, 0, 0, 0, 1, 0,\n",
              "       0, 0, 1, 0, 0, 1, 1, 0, 0, 0, 0, 0, 0, 1, 0, 0, 0, 0, 0, 1, 0, 0,\n",
              "       0, 0, 0, 0, 1, 0, 0, 0, 0, 0, 0, 0, 0, 0, 0, 0, 0, 1, 0, 0, 0, 0,\n",
              "       1, 1, 1, 0, 0, 1, 1, 0, 1, 0, 1, 1, 0, 0, 0, 1, 0, 0, 0, 1, 0, 0,\n",
              "       0, 0, 0, 0, 1, 0, 0, 0, 0, 0, 1, 0, 0, 0, 0, 0, 0, 1, 0, 0, 0, 0,\n",
              "       0, 0, 0, 1, 0, 0, 0, 0, 0, 0, 0, 0, 0, 0, 0, 0, 1, 0, 0, 0, 0, 0,\n",
              "       0, 0, 0, 0, 1, 1, 0, 0, 0, 0, 0, 0, 0, 0, 0, 0, 1, 0, 0, 0, 1, 0,\n",
              "       1, 0, 0, 0, 0, 0, 1, 0, 1, 0, 0, 0, 0, 0, 0, 0, 0, 0, 0, 0, 1, 0,\n",
              "       0, 0, 0, 1, 0, 0, 0, 0, 0, 0, 0, 1, 1, 0, 0, 0, 0, 0, 0, 0, 0, 0,\n",
              "       0, 0, 0, 0, 0, 1])"
            ]
          },
          "metadata": {},
          "execution_count": 135
        }
      ]
    },
    {
      "cell_type": "code",
      "metadata": {
        "colab": {
          "base_uri": "https://localhost:8080/"
        },
        "id": "PGx9YQ66DRe6",
        "outputId": "aa3510cc-d8ed-475a-9eed-ab8cb64e93f3"
      },
      "source": [
        "cm=confusion_matrix(y_test_threat,y_predicted_threat)\n",
        "cm"
      ],
      "execution_count": 136,
      "outputs": [
        {
          "output_type": "execute_result",
          "data": {
            "text/plain": [
              "array([[234,   9],\n",
              "       [ 26,  67]])"
            ]
          },
          "metadata": {},
          "execution_count": 136
        }
      ]
    },
    {
      "cell_type": "markdown",
      "metadata": {
        "id": "UK39NFDR-GVY"
      },
      "source": [
        "##**For Insult**"
      ]
    },
    {
      "cell_type": "code",
      "metadata": {
        "id": "Ce57LfzYSQRn",
        "colab": {
          "base_uri": "https://localhost:8080/"
        },
        "outputId": "8c211af7-58d9-4575-83c4-f15e4f8db11f"
      },
      "source": [
        "model_insult.fit(X_train_insult,y_train_insult,epochs=10)"
      ],
      "execution_count": 137,
      "outputs": [
        {
          "output_type": "stream",
          "name": "stdout",
          "text": [
            "Epoch 1/10\n",
            "210/210 [==============================] - 138s 641ms/step - loss: 0.3137 - auc: 0.9414 - precision_1: 0.8702 - recall_1: 0.8576\n",
            "Epoch 2/10\n",
            "210/210 [==============================] - 129s 614ms/step - loss: 0.3116 - auc: 0.9406 - precision_1: 0.8676 - recall_1: 0.8715\n",
            "Epoch 3/10\n",
            "210/210 [==============================] - 135s 643ms/step - loss: 0.3054 - auc: 0.9431 - precision_1: 0.8697 - recall_1: 0.8679\n",
            "Epoch 4/10\n",
            "210/210 [==============================] - 135s 643ms/step - loss: 0.3083 - auc: 0.9419 - precision_1: 0.8675 - recall_1: 0.8664\n",
            "Epoch 5/10\n",
            "210/210 [==============================] - 134s 638ms/step - loss: 0.3068 - auc: 0.9426 - precision_1: 0.8674 - recall_1: 0.8697\n",
            "Epoch 6/10\n",
            "210/210 [==============================] - 128s 610ms/step - loss: 0.3057 - auc: 0.9431 - precision_1: 0.8684 - recall_1: 0.8676\n",
            "Epoch 7/10\n",
            "210/210 [==============================] - 133s 634ms/step - loss: 0.3138 - auc: 0.9396 - precision_1: 0.8646 - recall_1: 0.8715\n",
            "Epoch 8/10\n",
            "210/210 [==============================] - 133s 635ms/step - loss: 0.3033 - auc: 0.9439 - precision_1: 0.8664 - recall_1: 0.8756\n",
            "Epoch 9/10\n",
            "210/210 [==============================] - 133s 633ms/step - loss: 0.3050 - auc: 0.9432 - precision_1: 0.8696 - recall_1: 0.8709\n",
            "Epoch 10/10\n",
            "210/210 [==============================] - 128s 609ms/step - loss: 0.3045 - auc: 0.9432 - precision_1: 0.8686 - recall_1: 0.8733\n"
          ]
        },
        {
          "output_type": "execute_result",
          "data": {
            "text/plain": [
              "<keras.callbacks.History at 0x7fd25b3a1790>"
            ]
          },
          "metadata": {},
          "execution_count": 137
        }
      ]
    },
    {
      "cell_type": "code",
      "metadata": {
        "colab": {
          "base_uri": "https://localhost:8080/"
        },
        "id": "2Z0jDF7D-Lxx",
        "outputId": "4568f707-caac-47b4-a8d9-c4a3700c8b38"
      },
      "source": [
        "model_insult.evaluate(X_test_insult,y_test_insult)"
      ],
      "execution_count": 138,
      "outputs": [
        {
          "output_type": "stream",
          "name": "stdout",
          "text": [
            "104/104 [==============================] - 66s 623ms/step - loss: 0.2732 - auc: 0.9567 - precision_1: 0.9093 - recall_1: 0.8768\n"
          ]
        },
        {
          "output_type": "execute_result",
          "data": {
            "text/plain": [
              "[0.2731839716434479,\n",
              " 0.9566637277603149,\n",
              " 0.9092651605606079,\n",
              " 0.8767713904380798]"
            ]
          },
          "metadata": {},
          "execution_count": 138
        }
      ]
    },
    {
      "cell_type": "code",
      "metadata": {
        "id": "1rMyoDTX-Lgd"
      },
      "source": [
        "y_predicted_insult=model_threat.predict(X_test_insult)"
      ],
      "execution_count": 139,
      "outputs": []
    },
    {
      "cell_type": "code",
      "metadata": {
        "colab": {
          "base_uri": "https://localhost:8080/"
        },
        "id": "JLP1iPSB-LcD",
        "outputId": "93583df0-b861-4438-d3f5-9444a23efa0f"
      },
      "source": [
        "y_predicted_insult=y_predicted_insult.flatten()\n",
        "y_predicted_insult=np.where(y_predicted_insult>0.5,1,0)\n",
        "y_predicted_insult"
      ],
      "execution_count": 140,
      "outputs": [
        {
          "output_type": "execute_result",
          "data": {
            "text/plain": [
              "array([0, 1, 1, ..., 0, 0, 0])"
            ]
          },
          "metadata": {},
          "execution_count": 140
        }
      ]
    },
    {
      "cell_type": "code",
      "metadata": {
        "colab": {
          "base_uri": "https://localhost:8080/"
        },
        "id": "pO2UeWL3FEDS",
        "outputId": "f05e237c-f5e3-4a7b-a838-5b3c6bada224"
      },
      "source": [
        "cm=confusion_matrix(y_test_insult,y_predicted_insult)\n",
        "cm"
      ],
      "execution_count": 141,
      "outputs": [
        {
          "output_type": "execute_result",
          "data": {
            "text/plain": [
              "array([[1535,  142],\n",
              "       [ 200, 1423]])"
            ]
          },
          "metadata": {},
          "execution_count": 141
        }
      ]
    },
    {
      "cell_type": "markdown",
      "metadata": {
        "id": "MZ0BPj25-Mas"
      },
      "source": [
        "##**For identity_hate**"
      ]
    },
    {
      "cell_type": "code",
      "metadata": {
        "colab": {
          "base_uri": "https://localhost:8080/"
        },
        "id": "CmIi2Xe2SQ9j",
        "outputId": "4f2d2016-585e-4bcc-8095-3112c7cd166a"
      },
      "source": [
        "model_idhate.fit(X_train_idhate,y_train_idhate,epochs=10)"
      ],
      "execution_count": 142,
      "outputs": [
        {
          "output_type": "stream",
          "name": "stdout",
          "text": [
            "Epoch 1/10\n",
            "98/98 [==============================] - 63s 608ms/step - loss: 0.3550 - auc: 0.9395 - precision_1: 0.8702 - recall_1: 0.8389\n",
            "Epoch 2/10\n",
            "98/98 [==============================] - 62s 637ms/step - loss: 0.3355 - auc: 0.9274 - precision_1: 0.8145 - recall_1: 0.7755\n",
            "Epoch 3/10\n",
            "98/98 [==============================] - 62s 636ms/step - loss: 0.3354 - auc: 0.9277 - precision_1: 0.8149 - recall_1: 0.7933\n",
            "Epoch 4/10\n",
            "98/98 [==============================] - 60s 612ms/step - loss: 0.3273 - auc: 0.9304 - precision_1: 0.8233 - recall_1: 0.8021\n",
            "Epoch 5/10\n",
            "98/98 [==============================] - 63s 640ms/step - loss: 0.3266 - auc: 0.9303 - precision_1: 0.8229 - recall_1: 0.7915\n",
            "Epoch 6/10\n",
            "98/98 [==============================] - 63s 640ms/step - loss: 0.3263 - auc: 0.9305 - precision_1: 0.8106 - recall_1: 0.7897\n",
            "Epoch 7/10\n",
            "98/98 [==============================] - 63s 638ms/step - loss: 0.3126 - auc: 0.9367 - precision_1: 0.8319 - recall_1: 0.7995\n",
            "Epoch 8/10\n",
            "98/98 [==============================] - 60s 612ms/step - loss: 0.3195 - auc: 0.9333 - precision_1: 0.8137 - recall_1: 0.8021\n",
            "Epoch 9/10\n",
            "98/98 [==============================] - 63s 639ms/step - loss: 0.3166 - auc: 0.9341 - precision_1: 0.8255 - recall_1: 0.7977\n",
            "Epoch 10/10\n",
            "98/98 [==============================] - 63s 639ms/step - loss: 0.3196 - auc: 0.9334 - precision_1: 0.8183 - recall_1: 0.7995\n"
          ]
        },
        {
          "output_type": "execute_result",
          "data": {
            "text/plain": [
              "<keras.callbacks.History at 0x7fd259531610>"
            ]
          },
          "metadata": {},
          "execution_count": 142
        }
      ]
    },
    {
      "cell_type": "code",
      "metadata": {
        "colab": {
          "base_uri": "https://localhost:8080/"
        },
        "id": "3dCafnjV-YVo",
        "outputId": "ff32cc6b-62f4-479d-912c-aaabe3786a6d"
      },
      "source": [
        "model_idhate.evaluate(X_test_idhate,y_test_idhate)"
      ],
      "execution_count": 143,
      "outputs": [
        {
          "output_type": "stream",
          "name": "stdout",
          "text": [
            "25/25 [==============================] - 17s 620ms/step - loss: 0.2863 - auc: 0.9496 - precision_1: 0.8841 - recall_1: 0.7410\n"
          ]
        },
        {
          "output_type": "execute_result",
          "data": {
            "text/plain": [
              "[0.28631067276000977,\n",
              " 0.9495725035667419,\n",
              " 0.8841201663017273,\n",
              " 0.7410072088241577]"
            ]
          },
          "metadata": {},
          "execution_count": 143
        }
      ]
    },
    {
      "cell_type": "code",
      "metadata": {
        "id": "YLO9-6-s-YF6"
      },
      "source": [
        "y_predicted_idhate=model_idhate.predict(X_test_idhate)"
      ],
      "execution_count": 144,
      "outputs": []
    },
    {
      "cell_type": "code",
      "metadata": {
        "colab": {
          "base_uri": "https://localhost:8080/"
        },
        "id": "wem6Xknb-YBr",
        "outputId": "be6f2238-ae4c-4bcb-b06d-9c2151ffb799"
      },
      "source": [
        "y_predicted_idhate=y_predicted_idhate.flatten()\n",
        "y_predicted_idhate=np.where(y_predicted_idhate>0.5,1,0)\n",
        "y_predicted_idhate"
      ],
      "execution_count": 145,
      "outputs": [
        {
          "output_type": "execute_result",
          "data": {
            "text/plain": [
              "array([0, 0, 0, 0, 0, 0, 1, 0, 1, 1, 0, 0, 1, 0, 0, 0, 1, 0, 0, 0, 1, 0,\n",
              "       1, 1, 1, 0, 0, 0, 0, 1, 0, 0, 1, 1, 0, 0, 0, 0, 0, 1, 1, 0, 1, 0,\n",
              "       0, 0, 0, 0, 0, 1, 0, 0, 1, 0, 0, 0, 0, 0, 0, 0, 0, 0, 1, 1, 1, 0,\n",
              "       0, 0, 1, 1, 1, 0, 0, 0, 0, 0, 0, 0, 1, 0, 0, 1, 1, 0, 0, 0, 0, 0,\n",
              "       0, 0, 0, 0, 0, 0, 1, 0, 0, 1, 0, 0, 0, 0, 1, 0, 0, 0, 0, 1, 0, 0,\n",
              "       1, 0, 0, 0, 0, 0, 1, 1, 0, 0, 0, 1, 1, 1, 1, 0, 0, 0, 0, 0, 1, 0,\n",
              "       1, 0, 0, 0, 1, 0, 1, 0, 0, 0, 0, 0, 0, 1, 0, 0, 1, 0, 0, 0, 0, 0,\n",
              "       1, 1, 0, 0, 0, 0, 1, 0, 1, 0, 1, 0, 0, 0, 1, 0, 0, 0, 0, 1, 0, 0,\n",
              "       1, 0, 1, 0, 0, 0, 0, 0, 0, 0, 0, 0, 1, 0, 0, 1, 1, 1, 0, 0, 1, 1,\n",
              "       0, 1, 1, 0, 1, 0, 0, 0, 1, 0, 0, 0, 0, 1, 0, 0, 0, 0, 1, 0, 0, 0,\n",
              "       1, 0, 0, 0, 1, 0, 0, 0, 0, 1, 0, 1, 1, 0, 0, 0, 1, 1, 0, 0, 0, 0,\n",
              "       0, 1, 0, 0, 0, 0, 1, 0, 0, 1, 0, 1, 0, 0, 0, 0, 0, 0, 0, 1, 0, 0,\n",
              "       1, 0, 0, 0, 0, 0, 1, 0, 1, 0, 1, 1, 1, 0, 0, 0, 1, 0, 0, 1, 1, 0,\n",
              "       0, 1, 0, 0, 0, 0, 1, 0, 1, 1, 0, 0, 0, 0, 0, 1, 0, 0, 0, 0, 0, 0,\n",
              "       0, 0, 0, 1, 0, 1, 0, 1, 1, 1, 0, 0, 0, 0, 0, 1, 1, 1, 0, 0, 0, 0,\n",
              "       0, 1, 1, 1, 0, 0, 0, 0, 0, 0, 0, 1, 0, 0, 0, 0, 0, 0, 0, 0, 1, 0,\n",
              "       1, 0, 0, 0, 0, 1, 1, 0, 1, 0, 1, 1, 1, 1, 1, 1, 1, 1, 1, 0, 0, 0,\n",
              "       1, 0, 1, 1, 1, 0, 0, 0, 0, 0, 1, 0, 0, 0, 1, 0, 0, 0, 0, 0, 0, 1,\n",
              "       0, 0, 0, 0, 0, 0, 1, 0, 1, 0, 0, 0, 0, 0, 0, 0, 0, 1, 0, 0, 1, 0,\n",
              "       1, 1, 1, 0, 1, 1, 0, 0, 0, 0, 0, 0, 0, 0, 0, 0, 1, 1, 1, 0, 1, 0,\n",
              "       0, 1, 0, 1, 1, 0, 1, 1, 0, 0, 1, 1, 0, 1, 1, 0, 1, 0, 0, 0, 0, 0,\n",
              "       1, 0, 0, 1, 0, 0, 0, 0, 0, 1, 1, 0, 0, 0, 0, 0, 0, 0, 1, 0, 0, 0,\n",
              "       1, 0, 0, 0, 1, 1, 0, 0, 1, 0, 0, 0, 0, 0, 1, 1, 0, 1, 1, 0, 0, 0,\n",
              "       1, 0, 0, 0, 0, 1, 1, 0, 0, 0, 0, 0, 0, 0, 1, 1, 0, 0, 0, 1, 0, 0,\n",
              "       0, 0, 0, 1, 0, 1, 0, 0, 0, 0, 1, 0, 1, 0, 0, 0, 0, 0, 0, 0, 1, 1,\n",
              "       0, 1, 0, 0, 1, 0, 0, 1, 0, 1, 0, 0, 1, 1, 1, 0, 0, 0, 1, 0, 0, 0,\n",
              "       1, 1, 0, 0, 0, 1, 0, 0, 0, 1, 0, 0, 0, 0, 0, 0, 1, 1, 0, 1, 0, 0,\n",
              "       0, 0, 0, 1, 0, 0, 1, 0, 0, 0, 0, 0, 0, 0, 1, 0, 0, 0, 0, 0, 1, 0,\n",
              "       1, 0, 1, 0, 0, 0, 0, 1, 0, 1, 1, 0, 0, 1, 1, 0, 0, 0, 0, 1, 0, 0,\n",
              "       0, 0, 0, 0, 0, 0, 1, 0, 0, 1, 0, 0, 1, 0, 0, 0, 0, 0, 0, 0, 0, 0,\n",
              "       0, 0, 0, 1, 0, 1, 1, 0, 0, 1, 0, 0, 1, 0, 1, 1, 0, 0, 0, 1, 0, 0,\n",
              "       0, 0, 0, 0, 0, 0, 0, 0, 0, 0, 1, 0, 0, 0, 0, 0, 0, 1, 0, 0, 1, 1,\n",
              "       1, 0, 1, 1, 0, 0, 0, 1, 0, 0, 0, 0, 1, 0, 0, 0, 1, 0, 0, 0, 0, 1,\n",
              "       0, 0, 1, 0, 0, 0, 0, 0, 0, 0, 1, 0, 0, 0, 1, 0, 0, 0, 1, 0, 0, 1,\n",
              "       0, 0, 0, 0, 0, 0, 0, 0, 0, 1, 0, 0, 0, 0, 0, 0, 0, 1, 0, 0, 0, 0,\n",
              "       0, 1, 0, 1, 1, 1, 0, 1, 1, 0, 0, 0])"
            ]
          },
          "metadata": {},
          "execution_count": 145
        }
      ]
    },
    {
      "cell_type": "code",
      "metadata": {
        "colab": {
          "base_uri": "https://localhost:8080/"
        },
        "id": "kE5Z0S9dFTZ-",
        "outputId": "6f5516c7-25d4-45b1-c7a9-00459f565d35"
      },
      "source": [
        "cm=confusion_matrix(y_test_idhate,y_predicted_idhate)\n",
        "cm"
      ],
      "execution_count": 146,
      "outputs": [
        {
          "output_type": "execute_result",
          "data": {
            "text/plain": [
              "array([[477,  27],\n",
              "       [ 72, 206]])"
            ]
          },
          "metadata": {},
          "execution_count": 146
        }
      ]
    },
    {
      "cell_type": "code",
      "metadata": {
        "id": "M44vNupgysvz"
      },
      "source": [
        ""
      ],
      "execution_count": null,
      "outputs": []
    }
  ]
}